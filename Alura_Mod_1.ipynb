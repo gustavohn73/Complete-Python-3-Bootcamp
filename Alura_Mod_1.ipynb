{
  "nbformat": 4,
  "nbformat_minor": 0,
  "metadata": {
    "colab": {
      "name": "Alura_Mod_1.ipynb",
      "provenance": [],
      "mount_file_id": "1oKWKnCwgehobhSZrryh8qiMjEf8D6YU7",
      "authorship_tag": "ABX9TyM5x0YDnwqvovLet7mUvWP0",
      "include_colab_link": true
    },
    "kernelspec": {
      "name": "python3",
      "display_name": "Python 3"
    },
    "language_info": {
      "name": "python"
    }
  },
  "cells": [
    {
      "cell_type": "markdown",
      "metadata": {
        "id": "view-in-github",
        "colab_type": "text"
      },
      "source": [
        "<a href=\"https://colab.research.google.com/github/gustavohn73/Complete-Python-3-Bootcamp/blob/master/Alura_Mod_1.ipynb\" target=\"_parent\"><img src=\"https://colab.research.google.com/assets/colab-badge.svg\" alt=\"Open In Colab\"/></a>"
      ]
    },
    {
      "cell_type": "markdown",
      "metadata": {
        "id": "VEjKOHPrXxM7"
      },
      "source": [
        "#Projeto Alura\n",
        "\n",
        "##Módulo 1 - Pandas e Python"
      ]
    },
    {
      "cell_type": "markdown",
      "metadata": {
        "id": "z-Oytpy0YBBW"
      },
      "source": [
        "**Objetivo**: Fazer um estudo dos dados abertos sobre COVID do estado de São Paulo das cidades de **Colina** e **Barretos** nos anos de **2020** e **2021**"
      ]
    },
    {
      "cell_type": "code",
      "metadata": {
        "id": "NUyssYPdX7dD"
      },
      "source": [
        "import pandas as pd\n",
        "\n",
        "pd.options.display.float_format = \"{:.2f}\".format"
      ],
      "execution_count": 4,
      "outputs": []
    },
    {
      "cell_type": "markdown",
      "metadata": {
        "id": "xhoDqydgdE75"
      },
      "source": [
        "Usando o Google Drive para armazenar os dados e não precisar ficar subindo toda vez que o caderno é reiniciado"
      ]
    },
    {
      "cell_type": "markdown",
      "metadata": {
        "id": "gBKuZk9CedD8"
      },
      "source": [
        "Extraindo arquivo Zip (menor para fazer upload)"
      ]
    },
    {
      "cell_type": "code",
      "metadata": {
        "id": "mR4rm1VZbJ6w"
      },
      "source": [
        "# importar zipfile\n",
        "from zipfile import ZipFile\n",
        "  \n",
        "# carregar arquivo\n",
        "file_name = \"/content/drive/MyDrive/Covid/20210531_Casos-e-obitos-ESP.zip\"\n",
        "\n",
        "# Fazer extração\n",
        "#with ZipFile(file_name, 'r') as zip:\n",
        "    #Caso esteja local\n",
        "    #zip.extract()\n",
        "    # leitura dos dados de casos local\n",
        "    #dados_casos = pd.read_csv(\"/content/20210531_Casos-e-obitos-ESP.csv\", encoding=\"UTF-8\", skiprows = 0, sep=\";\", skipfooter=0, thousands=\".\", decimal=\",\")\n"
      ],
      "execution_count": 2,
      "outputs": []
    },
    {
      "cell_type": "code",
      "metadata": {
        "id": "LS4fW5DGdk_w"
      },
      "source": [
        "#leitura dos dados no Google Drive\n",
        "\n",
        "dados_casos = pd.read_csv( file_name, encoding=\"UTF-8\", skiprows = 0, sep=\";\", skipfooter=0, thousands=\".\", decimal=\",\")"
      ],
      "execution_count": 5,
      "outputs": []
    },
    {
      "cell_type": "code",
      "metadata": {
        "colab": {
          "base_uri": "https://localhost:8080/",
          "height": 292
        },
        "id": "nxnrh5GTfa2Y",
        "outputId": "512fb719-6cd6-4014-b353-61702827be7e"
      },
      "source": [
        "dados_casos.head()"
      ],
      "execution_count": 6,
      "outputs": [
        {
          "output_type": "execute_result",
          "data": {
            "text/html": [
              "<div>\n",
              "<style scoped>\n",
              "    .dataframe tbody tr th:only-of-type {\n",
              "        vertical-align: middle;\n",
              "    }\n",
              "\n",
              "    .dataframe tbody tr th {\n",
              "        vertical-align: top;\n",
              "    }\n",
              "\n",
              "    .dataframe thead th {\n",
              "        text-align: right;\n",
              "    }\n",
              "</style>\n",
              "<table border=\"1\" class=\"dataframe\">\n",
              "  <thead>\n",
              "    <tr style=\"text-align: right;\">\n",
              "      <th></th>\n",
              "      <th>Genero</th>\n",
              "      <th>Municipio</th>\n",
              "      <th>Asma</th>\n",
              "      <th>Diabetes</th>\n",
              "      <th>Cardiopatia</th>\n",
              "      <th>Doenca Hematologica</th>\n",
              "      <th>Doenca Hepatica</th>\n",
              "      <th>Doenca Neurologica</th>\n",
              "      <th>Doenca Renal</th>\n",
              "      <th>Imunodepressao</th>\n",
              "      <th>Obesidade</th>\n",
              "      <th>Pneumopatia</th>\n",
              "      <th>Puérpera</th>\n",
              "      <th>Síndrome De Down</th>\n",
              "      <th>Outros Fatores De Risco</th>\n",
              "      <th>Diagnostico Covid19</th>\n",
              "      <th>Data Inicio Sintomas</th>\n",
              "      <th>Idade</th>\n",
              "      <th>Obito</th>\n",
              "    </tr>\n",
              "  </thead>\n",
              "  <tbody>\n",
              "    <tr>\n",
              "      <th>0</th>\n",
              "      <td>FEMININO</td>\n",
              "      <td>FRANCISCO MORATO</td>\n",
              "      <td>IGNORADO</td>\n",
              "      <td>IGNORADO</td>\n",
              "      <td>IGNORADO</td>\n",
              "      <td>IGNORADO</td>\n",
              "      <td>IGNORADO</td>\n",
              "      <td>IGNORADO</td>\n",
              "      <td>IGNORADO</td>\n",
              "      <td>IGNORADO</td>\n",
              "      <td>IGNORADO</td>\n",
              "      <td>IGNORADO</td>\n",
              "      <td>IGNORADO</td>\n",
              "      <td>IGNORADO</td>\n",
              "      <td>IGNORADO</td>\n",
              "      <td>CONFIRMADO</td>\n",
              "      <td>20/05/2021</td>\n",
              "      <td>17.00</td>\n",
              "      <td>0</td>\n",
              "    </tr>\n",
              "    <tr>\n",
              "      <th>1</th>\n",
              "      <td>FEMININO</td>\n",
              "      <td>SÃO PAULO</td>\n",
              "      <td>IGNORADO</td>\n",
              "      <td>IGNORADO</td>\n",
              "      <td>IGNORADO</td>\n",
              "      <td>IGNORADO</td>\n",
              "      <td>IGNORADO</td>\n",
              "      <td>IGNORADO</td>\n",
              "      <td>IGNORADO</td>\n",
              "      <td>IGNORADO</td>\n",
              "      <td>IGNORADO</td>\n",
              "      <td>IGNORADO</td>\n",
              "      <td>IGNORADO</td>\n",
              "      <td>IGNORADO</td>\n",
              "      <td>IGNORADO</td>\n",
              "      <td>CONFIRMADO</td>\n",
              "      <td>05/02/2021</td>\n",
              "      <td>35.00</td>\n",
              "      <td>0</td>\n",
              "    </tr>\n",
              "    <tr>\n",
              "      <th>2</th>\n",
              "      <td>FEMININO</td>\n",
              "      <td>SÃO PAULO</td>\n",
              "      <td>IGNORADO</td>\n",
              "      <td>IGNORADO</td>\n",
              "      <td>IGNORADO</td>\n",
              "      <td>IGNORADO</td>\n",
              "      <td>IGNORADO</td>\n",
              "      <td>IGNORADO</td>\n",
              "      <td>IGNORADO</td>\n",
              "      <td>IGNORADO</td>\n",
              "      <td>IGNORADO</td>\n",
              "      <td>IGNORADO</td>\n",
              "      <td>IGNORADO</td>\n",
              "      <td>IGNORADO</td>\n",
              "      <td>IGNORADO</td>\n",
              "      <td>CONFIRMADO</td>\n",
              "      <td>14/03/2021</td>\n",
              "      <td>33.00</td>\n",
              "      <td>0</td>\n",
              "    </tr>\n",
              "    <tr>\n",
              "      <th>3</th>\n",
              "      <td>FEMININO</td>\n",
              "      <td>VINHEDO</td>\n",
              "      <td>IGNORADO</td>\n",
              "      <td>IGNORADO</td>\n",
              "      <td>IGNORADO</td>\n",
              "      <td>IGNORADO</td>\n",
              "      <td>IGNORADO</td>\n",
              "      <td>IGNORADO</td>\n",
              "      <td>IGNORADO</td>\n",
              "      <td>IGNORADO</td>\n",
              "      <td>IGNORADO</td>\n",
              "      <td>IGNORADO</td>\n",
              "      <td>IGNORADO</td>\n",
              "      <td>IGNORADO</td>\n",
              "      <td>IGNORADO</td>\n",
              "      <td>CONFIRMADO</td>\n",
              "      <td>13/02/2021</td>\n",
              "      <td>21.00</td>\n",
              "      <td>0</td>\n",
              "    </tr>\n",
              "    <tr>\n",
              "      <th>4</th>\n",
              "      <td>FEMININO</td>\n",
              "      <td>OSVALDO CRUZ</td>\n",
              "      <td>IGNORADO</td>\n",
              "      <td>IGNORADO</td>\n",
              "      <td>IGNORADO</td>\n",
              "      <td>IGNORADO</td>\n",
              "      <td>IGNORADO</td>\n",
              "      <td>IGNORADO</td>\n",
              "      <td>IGNORADO</td>\n",
              "      <td>IGNORADO</td>\n",
              "      <td>IGNORADO</td>\n",
              "      <td>IGNORADO</td>\n",
              "      <td>IGNORADO</td>\n",
              "      <td>IGNORADO</td>\n",
              "      <td>IGNORADO</td>\n",
              "      <td>CONFIRMADO</td>\n",
              "      <td>21/04/2021</td>\n",
              "      <td>18.00</td>\n",
              "      <td>0</td>\n",
              "    </tr>\n",
              "  </tbody>\n",
              "</table>\n",
              "</div>"
            ],
            "text/plain": [
              "     Genero         Municipio      Asma  ... Data Inicio Sintomas Idade Obito\n",
              "0  FEMININO  FRANCISCO MORATO  IGNORADO  ...           20/05/2021 17.00     0\n",
              "1  FEMININO         SÃO PAULO  IGNORADO  ...           05/02/2021 35.00     0\n",
              "2  FEMININO         SÃO PAULO  IGNORADO  ...           14/03/2021 33.00     0\n",
              "3  FEMININO           VINHEDO  IGNORADO  ...           13/02/2021 21.00     0\n",
              "4  FEMININO      OSVALDO CRUZ  IGNORADO  ...           21/04/2021 18.00     0\n",
              "\n",
              "[5 rows x 19 columns]"
            ]
          },
          "metadata": {
            "tags": []
          },
          "execution_count": 6
        }
      ]
    },
    {
      "cell_type": "code",
      "metadata": {
        "id": "Jboaz3pmhDYu"
      },
      "source": [
        "#Leitura de dados SRAG\n",
        "\n",
        "dados_srag = pd.read_csv(\"/content/drive/MyDrive/Covid/20210528_SRAG.csv\", encoding=\"UTF-8\", \n",
        "                    skiprows = 0, sep=\";\", skipfooter=0)"
      ],
      "execution_count": 7,
      "outputs": []
    },
    {
      "cell_type": "code",
      "metadata": {
        "colab": {
          "base_uri": "https://localhost:8080/",
          "height": 343
        },
        "id": "FmUS69gDkbjH",
        "outputId": "f85b9833-596b-43ef-b5bd-42f5d1765c97"
      },
      "source": [
        "dados_srag.head()"
      ],
      "execution_count": 8,
      "outputs": [
        {
          "output_type": "execute_result",
          "data": {
            "text/html": [
              "<div>\n",
              "<style scoped>\n",
              "    .dataframe tbody tr th:only-of-type {\n",
              "        vertical-align: middle;\n",
              "    }\n",
              "\n",
              "    .dataframe tbody tr th {\n",
              "        vertical-align: top;\n",
              "    }\n",
              "\n",
              "    .dataframe thead th {\n",
              "        text-align: right;\n",
              "    }\n",
              "</style>\n",
              "<table border=\"1\" class=\"dataframe\">\n",
              "  <thead>\n",
              "    <tr style=\"text-align: right;\">\n",
              "      <th></th>\n",
              "      <th>Municípios</th>\n",
              "      <th>Sg Uf</th>\n",
              "      <th>Nu Idade N</th>\n",
              "      <th>Grupo de Idades</th>\n",
              "      <th>Cs Sexo</th>\n",
              "      <th>Cs Raca</th>\n",
              "      <th>OUTRAS SRAG</th>\n",
              "      <th>Evolução</th>\n",
              "      <th>Quantidade Homens</th>\n",
              "      <th>Quantidade Mulheres</th>\n",
              "      <th>Quantidade de Casos</th>\n",
              "      <th>Cs Raca_ID</th>\n",
              "      <th>Cs Sexo_ID</th>\n",
              "      <th>Data de Notificação</th>\n",
              "      <th>Faixa etária</th>\n",
              "      <th>EVOLUCAO_NOT_NULL</th>\n",
              "      <th>Última Data de Notificação</th>\n",
              "    </tr>\n",
              "  </thead>\n",
              "  <tbody>\n",
              "    <tr>\n",
              "      <th>0</th>\n",
              "      <td>SAO PAULO</td>\n",
              "      <td>SP</td>\n",
              "      <td>71</td>\n",
              "      <td>70</td>\n",
              "      <td>Feminino</td>\n",
              "      <td>Parda</td>\n",
              "      <td>COVID 19</td>\n",
              "      <td>Cura</td>\n",
              "      <td>nan</td>\n",
              "      <td>71.00</td>\n",
              "      <td>1</td>\n",
              "      <td>4.00</td>\n",
              "      <td>Feminino</td>\n",
              "      <td>08/08/2020</td>\n",
              "      <td>70</td>\n",
              "      <td>1</td>\n",
              "      <td>29/09/2020</td>\n",
              "    </tr>\n",
              "    <tr>\n",
              "      <th>1</th>\n",
              "      <td>HORTOLANDIA</td>\n",
              "      <td>SP</td>\n",
              "      <td>71</td>\n",
              "      <td>70</td>\n",
              "      <td>Feminino</td>\n",
              "      <td>Parda</td>\n",
              "      <td>COVID 19</td>\n",
              "      <td>Cura</td>\n",
              "      <td>nan</td>\n",
              "      <td>71.00</td>\n",
              "      <td>1</td>\n",
              "      <td>4.00</td>\n",
              "      <td>Feminino</td>\n",
              "      <td>11/08/2020</td>\n",
              "      <td>70</td>\n",
              "      <td>1</td>\n",
              "      <td>29/09/2020</td>\n",
              "    </tr>\n",
              "    <tr>\n",
              "      <th>2</th>\n",
              "      <td>SAO PAULO</td>\n",
              "      <td>SP</td>\n",
              "      <td>71</td>\n",
              "      <td>70</td>\n",
              "      <td>Feminino</td>\n",
              "      <td>Parda</td>\n",
              "      <td>COVID 19</td>\n",
              "      <td>Cura</td>\n",
              "      <td>nan</td>\n",
              "      <td>71.00</td>\n",
              "      <td>1</td>\n",
              "      <td>4.00</td>\n",
              "      <td>Feminino</td>\n",
              "      <td>12/08/2020</td>\n",
              "      <td>70</td>\n",
              "      <td>1</td>\n",
              "      <td>29/09/2020</td>\n",
              "    </tr>\n",
              "    <tr>\n",
              "      <th>3</th>\n",
              "      <td>CARAGUATATUBA</td>\n",
              "      <td>SP</td>\n",
              "      <td>71</td>\n",
              "      <td>70</td>\n",
              "      <td>Feminino</td>\n",
              "      <td>Parda</td>\n",
              "      <td>COVID 19</td>\n",
              "      <td>Cura</td>\n",
              "      <td>nan</td>\n",
              "      <td>71.00</td>\n",
              "      <td>1</td>\n",
              "      <td>4.00</td>\n",
              "      <td>Feminino</td>\n",
              "      <td>14/08/2020</td>\n",
              "      <td>70</td>\n",
              "      <td>1</td>\n",
              "      <td>29/09/2020</td>\n",
              "    </tr>\n",
              "    <tr>\n",
              "      <th>4</th>\n",
              "      <td>GUARULHOS</td>\n",
              "      <td>SP</td>\n",
              "      <td>71</td>\n",
              "      <td>70</td>\n",
              "      <td>Feminino</td>\n",
              "      <td>Parda</td>\n",
              "      <td>COVID 19</td>\n",
              "      <td>Cura</td>\n",
              "      <td>nan</td>\n",
              "      <td>71.00</td>\n",
              "      <td>1</td>\n",
              "      <td>4.00</td>\n",
              "      <td>Feminino</td>\n",
              "      <td>19/08/2020</td>\n",
              "      <td>70</td>\n",
              "      <td>1</td>\n",
              "      <td>29/09/2020</td>\n",
              "    </tr>\n",
              "  </tbody>\n",
              "</table>\n",
              "</div>"
            ],
            "text/plain": [
              "      Municípios Sg Uf  ...  EVOLUCAO_NOT_NULL  Última Data de Notificação\n",
              "0      SAO PAULO    SP  ...                  1                  29/09/2020\n",
              "1    HORTOLANDIA    SP  ...                  1                  29/09/2020\n",
              "2      SAO PAULO    SP  ...                  1                  29/09/2020\n",
              "3  CARAGUATATUBA    SP  ...                  1                  29/09/2020\n",
              "4      GUARULHOS    SP  ...                  1                  29/09/2020\n",
              "\n",
              "[5 rows x 17 columns]"
            ]
          },
          "metadata": {
            "tags": []
          },
          "execution_count": 8
        }
      ]
    },
    {
      "cell_type": "code",
      "metadata": {
        "colab": {
          "base_uri": "https://localhost:8080/",
          "height": 204
        },
        "id": "_lSLBhHBhiM0",
        "outputId": "e89d02fd-34a9-4a1c-90e0-20cd35dd04b7"
      },
      "source": [
        "#Leitura de dados isolamento\n",
        "\n",
        "dados_iso = pd.read_csv(\"/content/drive/MyDrive/Covid/20210530_isolamento-1.csv\", encoding=\"UTF-8\", \n",
        "                    skiprows = 0, sep=\";\", skipfooter=0,\n",
        "                    thousands=\".\", decimal=\",\")\n",
        "dados_iso.head()"
      ],
      "execution_count": 9,
      "outputs": [
        {
          "output_type": "execute_result",
          "data": {
            "text/html": [
              "<div>\n",
              "<style scoped>\n",
              "    .dataframe tbody tr th:only-of-type {\n",
              "        vertical-align: middle;\n",
              "    }\n",
              "\n",
              "    .dataframe tbody tr th {\n",
              "        vertical-align: top;\n",
              "    }\n",
              "\n",
              "    .dataframe thead th {\n",
              "        text-align: right;\n",
              "    }\n",
              "</style>\n",
              "<table border=\"1\" class=\"dataframe\">\n",
              "  <thead>\n",
              "    <tr style=\"text-align: right;\">\n",
              "      <th></th>\n",
              "      <th>Município1</th>\n",
              "      <th>Código Município IBGE</th>\n",
              "      <th>População estimada (2020)</th>\n",
              "      <th>UF1</th>\n",
              "      <th>Data</th>\n",
              "      <th>Média de Índice De Isolamento</th>\n",
              "    </tr>\n",
              "  </thead>\n",
              "  <tbody>\n",
              "    <tr>\n",
              "      <th>0</th>\n",
              "      <td>AMERICANA</td>\n",
              "      <td>3501608</td>\n",
              "      <td>242018</td>\n",
              "      <td>SP</td>\n",
              "      <td>sábado, 29/05</td>\n",
              "      <td>40%</td>\n",
              "    </tr>\n",
              "    <tr>\n",
              "      <th>1</th>\n",
              "      <td>AMERICANA</td>\n",
              "      <td>3501608</td>\n",
              "      <td>242018</td>\n",
              "      <td>SP</td>\n",
              "      <td>sexta-feira, 28/05</td>\n",
              "      <td>36%</td>\n",
              "    </tr>\n",
              "    <tr>\n",
              "      <th>2</th>\n",
              "      <td>AMERICANA</td>\n",
              "      <td>3501608</td>\n",
              "      <td>242018</td>\n",
              "      <td>SP</td>\n",
              "      <td>quinta-feira, 27/05</td>\n",
              "      <td>37%</td>\n",
              "    </tr>\n",
              "    <tr>\n",
              "      <th>3</th>\n",
              "      <td>AMERICANA</td>\n",
              "      <td>3501608</td>\n",
              "      <td>242018</td>\n",
              "      <td>SP</td>\n",
              "      <td>quarta-feira, 26/05</td>\n",
              "      <td>38%</td>\n",
              "    </tr>\n",
              "    <tr>\n",
              "      <th>4</th>\n",
              "      <td>AMERICANA</td>\n",
              "      <td>3501608</td>\n",
              "      <td>242018</td>\n",
              "      <td>SP</td>\n",
              "      <td>terça-feira, 25/05</td>\n",
              "      <td>36%</td>\n",
              "    </tr>\n",
              "  </tbody>\n",
              "</table>\n",
              "</div>"
            ],
            "text/plain": [
              "  Município1  ...  Média de Índice De Isolamento\n",
              "0  AMERICANA  ...                            40%\n",
              "1  AMERICANA  ...                            36%\n",
              "2  AMERICANA  ...                            37%\n",
              "3  AMERICANA  ...                            38%\n",
              "4  AMERICANA  ...                            36%\n",
              "\n",
              "[5 rows x 6 columns]"
            ]
          },
          "metadata": {
            "tags": []
          },
          "execution_count": 9
        }
      ]
    },
    {
      "cell_type": "markdown",
      "metadata": {
        "id": "uZTTa-TErdAT"
      },
      "source": [
        "##Trabalhando com Datetime"
      ]
    },
    {
      "cell_type": "code",
      "metadata": {
        "id": "6Fvzc0rBrbjz"
      },
      "source": [
        "import datetime"
      ],
      "execution_count": 10,
      "outputs": []
    },
    {
      "cell_type": "code",
      "metadata": {
        "id": "b-qdLCMVtHYy"
      },
      "source": [
        "dados_srag[\"Data de Notificação\"] = pd.to_datetime(dados_srag[\"Data de Notificação\"], format=\"%d/%m/%Y\", errors=\"ignore\")\n",
        "\n",
        "\n",
        "#dados_srag.index =  pd.to_datetime(dados_srag[\"Data de Notificação\"], format=\"%d/%m/%Y\", errors=\"ignore\")"
      ],
      "execution_count": 92,
      "outputs": []
    },
    {
      "cell_type": "code",
      "metadata": {
        "colab": {
          "base_uri": "https://localhost:8080/",
          "height": 343
        },
        "id": "VPoB1uabssTl",
        "outputId": "cea19a10-71d2-48ce-a7a8-f44e36cd617d"
      },
      "source": [
        "dados_srag.head()"
      ],
      "execution_count": 12,
      "outputs": [
        {
          "output_type": "execute_result",
          "data": {
            "text/html": [
              "<div>\n",
              "<style scoped>\n",
              "    .dataframe tbody tr th:only-of-type {\n",
              "        vertical-align: middle;\n",
              "    }\n",
              "\n",
              "    .dataframe tbody tr th {\n",
              "        vertical-align: top;\n",
              "    }\n",
              "\n",
              "    .dataframe thead th {\n",
              "        text-align: right;\n",
              "    }\n",
              "</style>\n",
              "<table border=\"1\" class=\"dataframe\">\n",
              "  <thead>\n",
              "    <tr style=\"text-align: right;\">\n",
              "      <th></th>\n",
              "      <th>Municípios</th>\n",
              "      <th>Sg Uf</th>\n",
              "      <th>Nu Idade N</th>\n",
              "      <th>Grupo de Idades</th>\n",
              "      <th>Cs Sexo</th>\n",
              "      <th>Cs Raca</th>\n",
              "      <th>OUTRAS SRAG</th>\n",
              "      <th>Evolução</th>\n",
              "      <th>Quantidade Homens</th>\n",
              "      <th>Quantidade Mulheres</th>\n",
              "      <th>Quantidade de Casos</th>\n",
              "      <th>Cs Raca_ID</th>\n",
              "      <th>Cs Sexo_ID</th>\n",
              "      <th>Data de Notificação</th>\n",
              "      <th>Faixa etária</th>\n",
              "      <th>EVOLUCAO_NOT_NULL</th>\n",
              "      <th>Última Data de Notificação</th>\n",
              "    </tr>\n",
              "  </thead>\n",
              "  <tbody>\n",
              "    <tr>\n",
              "      <th>0</th>\n",
              "      <td>SAO PAULO</td>\n",
              "      <td>SP</td>\n",
              "      <td>71</td>\n",
              "      <td>70</td>\n",
              "      <td>Feminino</td>\n",
              "      <td>Parda</td>\n",
              "      <td>COVID 19</td>\n",
              "      <td>Cura</td>\n",
              "      <td>nan</td>\n",
              "      <td>71.00</td>\n",
              "      <td>1</td>\n",
              "      <td>4.00</td>\n",
              "      <td>Feminino</td>\n",
              "      <td>2020-08-08</td>\n",
              "      <td>70</td>\n",
              "      <td>1</td>\n",
              "      <td>29/09/2020</td>\n",
              "    </tr>\n",
              "    <tr>\n",
              "      <th>1</th>\n",
              "      <td>HORTOLANDIA</td>\n",
              "      <td>SP</td>\n",
              "      <td>71</td>\n",
              "      <td>70</td>\n",
              "      <td>Feminino</td>\n",
              "      <td>Parda</td>\n",
              "      <td>COVID 19</td>\n",
              "      <td>Cura</td>\n",
              "      <td>nan</td>\n",
              "      <td>71.00</td>\n",
              "      <td>1</td>\n",
              "      <td>4.00</td>\n",
              "      <td>Feminino</td>\n",
              "      <td>2020-08-11</td>\n",
              "      <td>70</td>\n",
              "      <td>1</td>\n",
              "      <td>29/09/2020</td>\n",
              "    </tr>\n",
              "    <tr>\n",
              "      <th>2</th>\n",
              "      <td>SAO PAULO</td>\n",
              "      <td>SP</td>\n",
              "      <td>71</td>\n",
              "      <td>70</td>\n",
              "      <td>Feminino</td>\n",
              "      <td>Parda</td>\n",
              "      <td>COVID 19</td>\n",
              "      <td>Cura</td>\n",
              "      <td>nan</td>\n",
              "      <td>71.00</td>\n",
              "      <td>1</td>\n",
              "      <td>4.00</td>\n",
              "      <td>Feminino</td>\n",
              "      <td>2020-08-12</td>\n",
              "      <td>70</td>\n",
              "      <td>1</td>\n",
              "      <td>29/09/2020</td>\n",
              "    </tr>\n",
              "    <tr>\n",
              "      <th>3</th>\n",
              "      <td>CARAGUATATUBA</td>\n",
              "      <td>SP</td>\n",
              "      <td>71</td>\n",
              "      <td>70</td>\n",
              "      <td>Feminino</td>\n",
              "      <td>Parda</td>\n",
              "      <td>COVID 19</td>\n",
              "      <td>Cura</td>\n",
              "      <td>nan</td>\n",
              "      <td>71.00</td>\n",
              "      <td>1</td>\n",
              "      <td>4.00</td>\n",
              "      <td>Feminino</td>\n",
              "      <td>2020-08-14</td>\n",
              "      <td>70</td>\n",
              "      <td>1</td>\n",
              "      <td>29/09/2020</td>\n",
              "    </tr>\n",
              "    <tr>\n",
              "      <th>4</th>\n",
              "      <td>GUARULHOS</td>\n",
              "      <td>SP</td>\n",
              "      <td>71</td>\n",
              "      <td>70</td>\n",
              "      <td>Feminino</td>\n",
              "      <td>Parda</td>\n",
              "      <td>COVID 19</td>\n",
              "      <td>Cura</td>\n",
              "      <td>nan</td>\n",
              "      <td>71.00</td>\n",
              "      <td>1</td>\n",
              "      <td>4.00</td>\n",
              "      <td>Feminino</td>\n",
              "      <td>2020-08-19</td>\n",
              "      <td>70</td>\n",
              "      <td>1</td>\n",
              "      <td>29/09/2020</td>\n",
              "    </tr>\n",
              "  </tbody>\n",
              "</table>\n",
              "</div>"
            ],
            "text/plain": [
              "      Municípios Sg Uf  ...  EVOLUCAO_NOT_NULL  Última Data de Notificação\n",
              "0      SAO PAULO    SP  ...                  1                  29/09/2020\n",
              "1    HORTOLANDIA    SP  ...                  1                  29/09/2020\n",
              "2      SAO PAULO    SP  ...                  1                  29/09/2020\n",
              "3  CARAGUATATUBA    SP  ...                  1                  29/09/2020\n",
              "4      GUARULHOS    SP  ...                  1                  29/09/2020\n",
              "\n",
              "[5 rows x 17 columns]"
            ]
          },
          "metadata": {
            "tags": []
          },
          "execution_count": 12
        }
      ]
    },
    {
      "cell_type": "markdown",
      "metadata": {
        "id": "fbwWTpGGjFPO"
      },
      "source": [
        "#Contagem"
      ]
    },
    {
      "cell_type": "code",
      "metadata": {
        "colab": {
          "base_uri": "https://localhost:8080/"
        },
        "id": "lqT9S63fpKVd",
        "outputId": "277d0ca3-8147-4e87-a72c-c34cdd8682c6"
      },
      "source": [
        "#para fazer a contagem de tamanho.\n",
        "dados_srag.groupby(\"Data de Notificação\").size()"
      ],
      "execution_count": 13,
      "outputs": [
        {
          "output_type": "execute_result",
          "data": {
            "text/plain": [
              "Data de Notificação\n",
              "2011-03-18       1\n",
              "2012-04-20       1\n",
              "2017-03-16       1\n",
              "2018-10-09       1\n",
              "2018-11-18       1\n",
              "              ... \n",
              "2021-05-23    1146\n",
              "2021-05-24    2451\n",
              "2021-05-25    2075\n",
              "2021-05-26    1738\n",
              "2021-05-27    1332\n",
              "Length: 894, dtype: int64"
            ]
          },
          "metadata": {
            "tags": []
          },
          "execution_count": 13
        }
      ]
    },
    {
      "cell_type": "markdown",
      "metadata": {
        "id": "coYp5WHGjAzR"
      },
      "source": [
        "#Filtro de Ano\n"
      ]
    },
    {
      "cell_type": "code",
      "metadata": {
        "colab": {
          "base_uri": "https://localhost:8080/",
          "height": 660
        },
        "id": "hgtHAE0euBqP",
        "outputId": "1fa88e37-1f2c-46d2-ccd6-7f7369e5c3f6"
      },
      "source": [
        "#Garantindo que o dado seja relativo aos anos de 2020 e 2021 (fazeendo com append para usar a função)\n",
        "srag_filtered = dados_srag[dados_srag[\"Data de Notificação\"].dt.strftime('%Y') == \"2021\"]\n",
        "srag_filtered_2020 = dados_srag[dados_srag[\"Data de Notificação\"].dt.strftime('%Y') == \"2020\"]\n",
        "srag_filtered.append(srag_filtered_2020)"
      ],
      "execution_count": 95,
      "outputs": [
        {
          "output_type": "execute_result",
          "data": {
            "text/html": [
              "<div>\n",
              "<style scoped>\n",
              "    .dataframe tbody tr th:only-of-type {\n",
              "        vertical-align: middle;\n",
              "    }\n",
              "\n",
              "    .dataframe tbody tr th {\n",
              "        vertical-align: top;\n",
              "    }\n",
              "\n",
              "    .dataframe thead th {\n",
              "        text-align: right;\n",
              "    }\n",
              "</style>\n",
              "<table border=\"1\" class=\"dataframe\">\n",
              "  <thead>\n",
              "    <tr style=\"text-align: right;\">\n",
              "      <th></th>\n",
              "      <th>Municípios</th>\n",
              "      <th>Sg Uf</th>\n",
              "      <th>Nu Idade N</th>\n",
              "      <th>Grupo de Idades</th>\n",
              "      <th>Cs Sexo</th>\n",
              "      <th>Cs Raca</th>\n",
              "      <th>OUTRAS SRAG</th>\n",
              "      <th>Evolução</th>\n",
              "      <th>Quantidade Homens</th>\n",
              "      <th>Quantidade Mulheres</th>\n",
              "      <th>Quantidade de Casos</th>\n",
              "      <th>Cs Raca_ID</th>\n",
              "      <th>Cs Sexo_ID</th>\n",
              "      <th>Data de Notificação</th>\n",
              "      <th>Faixa etária</th>\n",
              "      <th>EVOLUCAO_NOT_NULL</th>\n",
              "      <th>Última Data de Notificação</th>\n",
              "    </tr>\n",
              "  </thead>\n",
              "  <tbody>\n",
              "    <tr>\n",
              "      <th>18</th>\n",
              "      <td>APARECIDA</td>\n",
              "      <td>SP</td>\n",
              "      <td>71</td>\n",
              "      <td>70</td>\n",
              "      <td>Feminino</td>\n",
              "      <td>Parda</td>\n",
              "      <td>COVID 19</td>\n",
              "      <td>Cura</td>\n",
              "      <td>nan</td>\n",
              "      <td>71.00</td>\n",
              "      <td>1</td>\n",
              "      <td>4.00</td>\n",
              "      <td>Feminino</td>\n",
              "      <td>2021-01-07</td>\n",
              "      <td>70</td>\n",
              "      <td>1</td>\n",
              "      <td>29/09/2020</td>\n",
              "    </tr>\n",
              "    <tr>\n",
              "      <th>19</th>\n",
              "      <td>GUARULHOS</td>\n",
              "      <td>SP</td>\n",
              "      <td>71</td>\n",
              "      <td>70</td>\n",
              "      <td>Feminino</td>\n",
              "      <td>Parda</td>\n",
              "      <td>COVID 19</td>\n",
              "      <td>Cura</td>\n",
              "      <td>nan</td>\n",
              "      <td>71.00</td>\n",
              "      <td>1</td>\n",
              "      <td>4.00</td>\n",
              "      <td>Feminino</td>\n",
              "      <td>2021-01-08</td>\n",
              "      <td>70</td>\n",
              "      <td>1</td>\n",
              "      <td>29/09/2020</td>\n",
              "    </tr>\n",
              "    <tr>\n",
              "      <th>20</th>\n",
              "      <td>AMPARO</td>\n",
              "      <td>SP</td>\n",
              "      <td>71</td>\n",
              "      <td>70</td>\n",
              "      <td>Feminino</td>\n",
              "      <td>Parda</td>\n",
              "      <td>COVID 19</td>\n",
              "      <td>Cura</td>\n",
              "      <td>nan</td>\n",
              "      <td>71.00</td>\n",
              "      <td>1</td>\n",
              "      <td>4.00</td>\n",
              "      <td>Feminino</td>\n",
              "      <td>2021-01-24</td>\n",
              "      <td>70</td>\n",
              "      <td>1</td>\n",
              "      <td>29/09/2020</td>\n",
              "    </tr>\n",
              "    <tr>\n",
              "      <th>21</th>\n",
              "      <td>BARUERI</td>\n",
              "      <td>SP</td>\n",
              "      <td>71</td>\n",
              "      <td>70</td>\n",
              "      <td>Feminino</td>\n",
              "      <td>Parda</td>\n",
              "      <td>COVID 19</td>\n",
              "      <td>Cura</td>\n",
              "      <td>nan</td>\n",
              "      <td>71.00</td>\n",
              "      <td>1</td>\n",
              "      <td>4.00</td>\n",
              "      <td>Feminino</td>\n",
              "      <td>2021-01-24</td>\n",
              "      <td>70</td>\n",
              "      <td>1</td>\n",
              "      <td>29/09/2020</td>\n",
              "    </tr>\n",
              "    <tr>\n",
              "      <th>22</th>\n",
              "      <td>CARAPICUIBA</td>\n",
              "      <td>SP</td>\n",
              "      <td>71</td>\n",
              "      <td>70</td>\n",
              "      <td>Feminino</td>\n",
              "      <td>Parda</td>\n",
              "      <td>COVID 19</td>\n",
              "      <td>Cura</td>\n",
              "      <td>nan</td>\n",
              "      <td>71.00</td>\n",
              "      <td>1</td>\n",
              "      <td>4.00</td>\n",
              "      <td>Feminino</td>\n",
              "      <td>2021-01-25</td>\n",
              "      <td>70</td>\n",
              "      <td>1</td>\n",
              "      <td>29/09/2020</td>\n",
              "    </tr>\n",
              "    <tr>\n",
              "      <th>...</th>\n",
              "      <td>...</td>\n",
              "      <td>...</td>\n",
              "      <td>...</td>\n",
              "      <td>...</td>\n",
              "      <td>...</td>\n",
              "      <td>...</td>\n",
              "      <td>...</td>\n",
              "      <td>...</td>\n",
              "      <td>...</td>\n",
              "      <td>...</td>\n",
              "      <td>...</td>\n",
              "      <td>...</td>\n",
              "      <td>...</td>\n",
              "      <td>...</td>\n",
              "      <td>...</td>\n",
              "      <td>...</td>\n",
              "      <td>...</td>\n",
              "    </tr>\n",
              "    <tr>\n",
              "      <th>645340</th>\n",
              "      <td>SANTA BARBARA D'OESTE</td>\n",
              "      <td>SP</td>\n",
              "      <td>67</td>\n",
              "      <td>65</td>\n",
              "      <td>Feminino</td>\n",
              "      <td>Parda</td>\n",
              "      <td>COVID 19</td>\n",
              "      <td>Cura</td>\n",
              "      <td>nan</td>\n",
              "      <td>67.00</td>\n",
              "      <td>1</td>\n",
              "      <td>4.00</td>\n",
              "      <td>Feminino</td>\n",
              "      <td>2020-06-29</td>\n",
              "      <td>65</td>\n",
              "      <td>1</td>\n",
              "      <td>29/09/2020</td>\n",
              "    </tr>\n",
              "    <tr>\n",
              "      <th>645341</th>\n",
              "      <td>SAO PAULO</td>\n",
              "      <td>SP</td>\n",
              "      <td>67</td>\n",
              "      <td>65</td>\n",
              "      <td>Feminino</td>\n",
              "      <td>Parda</td>\n",
              "      <td>COVID 19</td>\n",
              "      <td>Cura</td>\n",
              "      <td>nan</td>\n",
              "      <td>67.00</td>\n",
              "      <td>1</td>\n",
              "      <td>4.00</td>\n",
              "      <td>Feminino</td>\n",
              "      <td>2020-06-29</td>\n",
              "      <td>65</td>\n",
              "      <td>1</td>\n",
              "      <td>29/09/2020</td>\n",
              "    </tr>\n",
              "    <tr>\n",
              "      <th>645342</th>\n",
              "      <td>VOTUPORANGA</td>\n",
              "      <td>SP</td>\n",
              "      <td>67</td>\n",
              "      <td>65</td>\n",
              "      <td>Feminino</td>\n",
              "      <td>Parda</td>\n",
              "      <td>COVID 19</td>\n",
              "      <td>Cura</td>\n",
              "      <td>nan</td>\n",
              "      <td>67.00</td>\n",
              "      <td>1</td>\n",
              "      <td>4.00</td>\n",
              "      <td>Feminino</td>\n",
              "      <td>2020-06-29</td>\n",
              "      <td>65</td>\n",
              "      <td>1</td>\n",
              "      <td>29/09/2020</td>\n",
              "    </tr>\n",
              "    <tr>\n",
              "      <th>645343</th>\n",
              "      <td>CARAPICUIBA</td>\n",
              "      <td>SP</td>\n",
              "      <td>67</td>\n",
              "      <td>65</td>\n",
              "      <td>Feminino</td>\n",
              "      <td>Parda</td>\n",
              "      <td>COVID 19</td>\n",
              "      <td>Cura</td>\n",
              "      <td>nan</td>\n",
              "      <td>67.00</td>\n",
              "      <td>1</td>\n",
              "      <td>4.00</td>\n",
              "      <td>Feminino</td>\n",
              "      <td>2020-07-01</td>\n",
              "      <td>65</td>\n",
              "      <td>1</td>\n",
              "      <td>29/09/2020</td>\n",
              "    </tr>\n",
              "    <tr>\n",
              "      <th>645344</th>\n",
              "      <td>EMBU-GUACU</td>\n",
              "      <td>SP</td>\n",
              "      <td>67</td>\n",
              "      <td>65</td>\n",
              "      <td>Feminino</td>\n",
              "      <td>Parda</td>\n",
              "      <td>COVID 19</td>\n",
              "      <td>Cura</td>\n",
              "      <td>nan</td>\n",
              "      <td>67.00</td>\n",
              "      <td>1</td>\n",
              "      <td>4.00</td>\n",
              "      <td>Feminino</td>\n",
              "      <td>2020-07-01</td>\n",
              "      <td>65</td>\n",
              "      <td>1</td>\n",
              "      <td>29/09/2020</td>\n",
              "    </tr>\n",
              "  </tbody>\n",
              "</table>\n",
              "<p>632973 rows × 17 columns</p>\n",
              "</div>"
            ],
            "text/plain": [
              "                   Municípios  ... Última Data de Notificação\n",
              "18                  APARECIDA  ...                 29/09/2020\n",
              "19                  GUARULHOS  ...                 29/09/2020\n",
              "20                     AMPARO  ...                 29/09/2020\n",
              "21                    BARUERI  ...                 29/09/2020\n",
              "22                CARAPICUIBA  ...                 29/09/2020\n",
              "...                       ...  ...                        ...\n",
              "645340  SANTA BARBARA D'OESTE  ...                 29/09/2020\n",
              "645341              SAO PAULO  ...                 29/09/2020\n",
              "645342            VOTUPORANGA  ...                 29/09/2020\n",
              "645343            CARAPICUIBA  ...                 29/09/2020\n",
              "645344             EMBU-GUACU  ...                 29/09/2020\n",
              "\n",
              "[632973 rows x 17 columns]"
            ]
          },
          "metadata": {
            "tags": []
          },
          "execution_count": 95
        }
      ]
    },
    {
      "cell_type": "markdown",
      "metadata": {
        "id": "g87GzC3hjLJ_"
      },
      "source": [
        "#Agrupamento"
      ]
    },
    {
      "cell_type": "code",
      "metadata": {
        "colab": {
          "base_uri": "https://localhost:8080/"
        },
        "id": "1AhZ13LWy6IT",
        "outputId": "d131947e-b6d7-410b-de7e-a9a80a6f6b02"
      },
      "source": [
        "srag_filtered.groupby(\"Municípios\").size()"
      ],
      "execution_count": 15,
      "outputs": [
        {
          "output_type": "execute_result",
          "data": {
            "text/plain": [
              "Municípios\n",
              "ABDON BATISTA      1\n",
              "ABREU E LIMA       1\n",
              "ACAILANDIA         1\n",
              "ACARAU             2\n",
              "ACARI              1\n",
              "                ... \n",
              "VOTORANTIM       914\n",
              "VOTUPORANGA      701\n",
              "XAPURI             1\n",
              "XINGUARA           3\n",
              "ZACARIAS          16\n",
              "Length: 1172, dtype: int64"
            ]
          },
          "metadata": {
            "tags": []
          },
          "execution_count": 15
        }
      ]
    },
    {
      "cell_type": "code",
      "metadata": {
        "colab": {
          "base_uri": "https://localhost:8080/"
        },
        "id": "mjdcO5ux0Nx8",
        "outputId": "251c7254-6442-4aa8-e55c-2822ee80012e"
      },
      "source": [
        "srag_filtered.loc[(srag_filtered.Municípios == \"COLINA\")].groupby(\"Evolução\").size()"
      ],
      "execution_count": 16,
      "outputs": [
        {
          "output_type": "execute_result",
          "data": {
            "text/plain": [
              "Evolução\n",
              "Cura            72\n",
              "Em avaliação    38\n",
              "Óbito           24\n",
              "dtype: int64"
            ]
          },
          "metadata": {
            "tags": []
          },
          "execution_count": 16
        }
      ]
    },
    {
      "cell_type": "code",
      "metadata": {
        "colab": {
          "base_uri": "https://localhost:8080/"
        },
        "id": "AE9LBxKF9Z60",
        "outputId": "2e576094-cee8-4ee3-f246-fdf02dca43f4"
      },
      "source": [
        "#verificando quantidade de dados por ano.\n",
        "dados_srag['ano'] = dados_estudo[\"Data de Notificação\"].dt.year\n",
        "dados_srag.loc[(dados_srag.Municípios == \"COLINA\") | (dados_srag.Municípios == \"BARRETOS\") ].groupby(\"ano\").size()"
      ],
      "execution_count": 99,
      "outputs": [
        {
          "output_type": "execute_result",
          "data": {
            "text/plain": [
              "ano\n",
              "2021.00    490\n",
              "dtype: int64"
            ]
          },
          "metadata": {
            "tags": []
          },
          "execution_count": 99
        }
      ]
    },
    {
      "cell_type": "markdown",
      "metadata": {
        "id": "RmAwogpQjazw"
      },
      "source": [
        "#Trabalhando os dados"
      ]
    },
    {
      "cell_type": "code",
      "metadata": {
        "colab": {
          "base_uri": "https://localhost:8080/",
          "height": 643
        },
        "id": "yR26BblA16sS",
        "outputId": "f3af1e42-532f-417f-a649-7a2094c94f2c"
      },
      "source": [
        "#Para colocar as duas cidadades posso usar o append\n",
        "\n",
        "#dados_estudo_Colina = srag_filtered.loc[(srag_filtered.Municípios == \"COLINA\")]\n",
        "#dados_estudo = srag_filtered.loc[(srag_filtered.Municípios == \"BARRETOS\")]\n",
        "#dados_estudo.append(dados_estudo_Colina)\n",
        "\n",
        "#Ou posso usar o \"|\" para fazer o OR (se tivesse que ser nas duas ao mesmo tempo usa-se o \"&\"no filtro) menor e mais facil.\n",
        "dados_estudo = srag_filtered.loc[(srag_filtered.Municípios == \"COLINA\") | (srag_filtered.Municípios == \"BARRETOS\")]\n",
        "\n",
        "#Arrumar o nome da coluna OUTRAS SRAG\n",
        "dados_estudo = dados_estudo.rename(columns={'OUTRAS SRAG': 'srag'})\n",
        "\n",
        "#filtrar de SRAG para COVID\n",
        "dados_estudo = dados_estudo.loc[(dados_estudo.srag == \"COVID 19\")]\n",
        "\n",
        "#filtrar de Evolução\n",
        "dados_estudo = dados_estudo.loc[(dados_estudo.Evolução != \"Em avaliação\")]\n",
        "\n",
        "\n",
        "#colocar mes e ano\n",
        "dados_estudo['ano'] = dados_estudo[\"Data de Notificação\"].dt.year\n",
        "dados_estudo['mes'] = dados_estudo[\"Data de Notificação\"].dt.month\n",
        "dados_estudo['mes_ano'] = dados_estudo[\"Data de Notificação\"].dt.strftime('%b/%Y')\n",
        "\n",
        "dados_estudo"
      ],
      "execution_count": 96,
      "outputs": [
        {
          "output_type": "execute_result",
          "data": {
            "text/html": [
              "<div>\n",
              "<style scoped>\n",
              "    .dataframe tbody tr th:only-of-type {\n",
              "        vertical-align: middle;\n",
              "    }\n",
              "\n",
              "    .dataframe tbody tr th {\n",
              "        vertical-align: top;\n",
              "    }\n",
              "\n",
              "    .dataframe thead th {\n",
              "        text-align: right;\n",
              "    }\n",
              "</style>\n",
              "<table border=\"1\" class=\"dataframe\">\n",
              "  <thead>\n",
              "    <tr style=\"text-align: right;\">\n",
              "      <th></th>\n",
              "      <th>Municípios</th>\n",
              "      <th>Sg Uf</th>\n",
              "      <th>Nu Idade N</th>\n",
              "      <th>Grupo de Idades</th>\n",
              "      <th>Cs Sexo</th>\n",
              "      <th>Cs Raca</th>\n",
              "      <th>srag</th>\n",
              "      <th>Evolução</th>\n",
              "      <th>Quantidade Homens</th>\n",
              "      <th>Quantidade Mulheres</th>\n",
              "      <th>Quantidade de Casos</th>\n",
              "      <th>Cs Raca_ID</th>\n",
              "      <th>Cs Sexo_ID</th>\n",
              "      <th>Data de Notificação</th>\n",
              "      <th>Faixa etária</th>\n",
              "      <th>EVOLUCAO_NOT_NULL</th>\n",
              "      <th>Última Data de Notificação</th>\n",
              "      <th>ano</th>\n",
              "      <th>mes</th>\n",
              "      <th>mes_ano</th>\n",
              "    </tr>\n",
              "  </thead>\n",
              "  <tbody>\n",
              "    <tr>\n",
              "      <th>25</th>\n",
              "      <td>BARRETOS</td>\n",
              "      <td>SP</td>\n",
              "      <td>71</td>\n",
              "      <td>70</td>\n",
              "      <td>Feminino</td>\n",
              "      <td>Parda</td>\n",
              "      <td>COVID 19</td>\n",
              "      <td>Cura</td>\n",
              "      <td>nan</td>\n",
              "      <td>71.00</td>\n",
              "      <td>1</td>\n",
              "      <td>4.00</td>\n",
              "      <td>Feminino</td>\n",
              "      <td>2021-02-06</td>\n",
              "      <td>70</td>\n",
              "      <td>1</td>\n",
              "      <td>29/09/2020</td>\n",
              "      <td>2021</td>\n",
              "      <td>2</td>\n",
              "      <td>Feb/2021</td>\n",
              "    </tr>\n",
              "    <tr>\n",
              "      <th>945</th>\n",
              "      <td>BARRETOS</td>\n",
              "      <td>SP</td>\n",
              "      <td>75</td>\n",
              "      <td>75</td>\n",
              "      <td>Feminino</td>\n",
              "      <td>Parda</td>\n",
              "      <td>COVID 19</td>\n",
              "      <td>Cura</td>\n",
              "      <td>nan</td>\n",
              "      <td>75.00</td>\n",
              "      <td>1</td>\n",
              "      <td>4.00</td>\n",
              "      <td>Feminino</td>\n",
              "      <td>2021-03-30</td>\n",
              "      <td>75</td>\n",
              "      <td>1</td>\n",
              "      <td>29/09/2020</td>\n",
              "      <td>2021</td>\n",
              "      <td>3</td>\n",
              "      <td>Mar/2021</td>\n",
              "    </tr>\n",
              "    <tr>\n",
              "      <th>23383</th>\n",
              "      <td>BARRETOS</td>\n",
              "      <td>SP</td>\n",
              "      <td>45</td>\n",
              "      <td>45</td>\n",
              "      <td>Feminino</td>\n",
              "      <td>Não informado</td>\n",
              "      <td>COVID 19</td>\n",
              "      <td>Cura</td>\n",
              "      <td>nan</td>\n",
              "      <td>45.00</td>\n",
              "      <td>1</td>\n",
              "      <td>9.00</td>\n",
              "      <td>Feminino</td>\n",
              "      <td>2021-04-06</td>\n",
              "      <td>45</td>\n",
              "      <td>1</td>\n",
              "      <td>29/09/2020</td>\n",
              "      <td>2021</td>\n",
              "      <td>4</td>\n",
              "      <td>Apr/2021</td>\n",
              "    </tr>\n",
              "    <tr>\n",
              "      <th>24994</th>\n",
              "      <td>BARRETOS</td>\n",
              "      <td>SP</td>\n",
              "      <td>21</td>\n",
              "      <td>20</td>\n",
              "      <td>Feminino</td>\n",
              "      <td>Branca</td>\n",
              "      <td>COVID 19</td>\n",
              "      <td>Cura</td>\n",
              "      <td>nan</td>\n",
              "      <td>21.00</td>\n",
              "      <td>1</td>\n",
              "      <td>1.00</td>\n",
              "      <td>Feminino</td>\n",
              "      <td>2021-03-31</td>\n",
              "      <td>20</td>\n",
              "      <td>1</td>\n",
              "      <td>29/09/2020</td>\n",
              "      <td>2021</td>\n",
              "      <td>3</td>\n",
              "      <td>Mar/2021</td>\n",
              "    </tr>\n",
              "    <tr>\n",
              "      <th>25252</th>\n",
              "      <td>BARRETOS</td>\n",
              "      <td>SP</td>\n",
              "      <td>26</td>\n",
              "      <td>25</td>\n",
              "      <td>Feminino</td>\n",
              "      <td>Branca</td>\n",
              "      <td>COVID 19</td>\n",
              "      <td>Cura</td>\n",
              "      <td>nan</td>\n",
              "      <td>26.00</td>\n",
              "      <td>1</td>\n",
              "      <td>1.00</td>\n",
              "      <td>Feminino</td>\n",
              "      <td>2021-05-02</td>\n",
              "      <td>25</td>\n",
              "      <td>1</td>\n",
              "      <td>29/09/2020</td>\n",
              "      <td>2021</td>\n",
              "      <td>5</td>\n",
              "      <td>May/2021</td>\n",
              "    </tr>\n",
              "    <tr>\n",
              "      <th>...</th>\n",
              "      <td>...</td>\n",
              "      <td>...</td>\n",
              "      <td>...</td>\n",
              "      <td>...</td>\n",
              "      <td>...</td>\n",
              "      <td>...</td>\n",
              "      <td>...</td>\n",
              "      <td>...</td>\n",
              "      <td>...</td>\n",
              "      <td>...</td>\n",
              "      <td>...</td>\n",
              "      <td>...</td>\n",
              "      <td>...</td>\n",
              "      <td>...</td>\n",
              "      <td>...</td>\n",
              "      <td>...</td>\n",
              "      <td>...</td>\n",
              "      <td>...</td>\n",
              "      <td>...</td>\n",
              "      <td>...</td>\n",
              "    </tr>\n",
              "    <tr>\n",
              "      <th>635862</th>\n",
              "      <td>COLINA</td>\n",
              "      <td>SP</td>\n",
              "      <td>59</td>\n",
              "      <td>55</td>\n",
              "      <td>Masculino</td>\n",
              "      <td>Não informado</td>\n",
              "      <td>COVID 19</td>\n",
              "      <td>Óbito</td>\n",
              "      <td>59.00</td>\n",
              "      <td>nan</td>\n",
              "      <td>1</td>\n",
              "      <td>9.00</td>\n",
              "      <td>Masculino</td>\n",
              "      <td>2021-04-07</td>\n",
              "      <td>55</td>\n",
              "      <td>2</td>\n",
              "      <td>29/09/2020</td>\n",
              "      <td>2021</td>\n",
              "      <td>4</td>\n",
              "      <td>Apr/2021</td>\n",
              "    </tr>\n",
              "    <tr>\n",
              "      <th>636083</th>\n",
              "      <td>BARRETOS</td>\n",
              "      <td>SP</td>\n",
              "      <td>65</td>\n",
              "      <td>65</td>\n",
              "      <td>Masculino</td>\n",
              "      <td>Não informado</td>\n",
              "      <td>COVID 19</td>\n",
              "      <td>Óbito</td>\n",
              "      <td>65.00</td>\n",
              "      <td>nan</td>\n",
              "      <td>1</td>\n",
              "      <td>9.00</td>\n",
              "      <td>Masculino</td>\n",
              "      <td>2021-04-12</td>\n",
              "      <td>65</td>\n",
              "      <td>2</td>\n",
              "      <td>29/09/2020</td>\n",
              "      <td>2021</td>\n",
              "      <td>4</td>\n",
              "      <td>Apr/2021</td>\n",
              "    </tr>\n",
              "    <tr>\n",
              "      <th>640458</th>\n",
              "      <td>BARRETOS</td>\n",
              "      <td>SP</td>\n",
              "      <td>82</td>\n",
              "      <td>80</td>\n",
              "      <td>Feminino</td>\n",
              "      <td>Branca</td>\n",
              "      <td>COVID 19</td>\n",
              "      <td>Cura</td>\n",
              "      <td>nan</td>\n",
              "      <td>82.00</td>\n",
              "      <td>1</td>\n",
              "      <td>1.00</td>\n",
              "      <td>Feminino</td>\n",
              "      <td>2021-04-11</td>\n",
              "      <td>80</td>\n",
              "      <td>1</td>\n",
              "      <td>29/09/2020</td>\n",
              "      <td>2021</td>\n",
              "      <td>4</td>\n",
              "      <td>Apr/2021</td>\n",
              "    </tr>\n",
              "    <tr>\n",
              "      <th>641747</th>\n",
              "      <td>BARRETOS</td>\n",
              "      <td>SP</td>\n",
              "      <td>55</td>\n",
              "      <td>55</td>\n",
              "      <td>Feminino</td>\n",
              "      <td>Preta</td>\n",
              "      <td>COVID 19</td>\n",
              "      <td>Cura</td>\n",
              "      <td>nan</td>\n",
              "      <td>55.00</td>\n",
              "      <td>1</td>\n",
              "      <td>2.00</td>\n",
              "      <td>Feminino</td>\n",
              "      <td>2021-05-19</td>\n",
              "      <td>55</td>\n",
              "      <td>1</td>\n",
              "      <td>29/09/2020</td>\n",
              "      <td>2021</td>\n",
              "      <td>5</td>\n",
              "      <td>May/2021</td>\n",
              "    </tr>\n",
              "    <tr>\n",
              "      <th>643134</th>\n",
              "      <td>BARRETOS</td>\n",
              "      <td>SP</td>\n",
              "      <td>37</td>\n",
              "      <td>35</td>\n",
              "      <td>Feminino</td>\n",
              "      <td>Parda</td>\n",
              "      <td>COVID 19</td>\n",
              "      <td>Cura</td>\n",
              "      <td>nan</td>\n",
              "      <td>37.00</td>\n",
              "      <td>1</td>\n",
              "      <td>4.00</td>\n",
              "      <td>Feminino</td>\n",
              "      <td>2021-04-26</td>\n",
              "      <td>35</td>\n",
              "      <td>1</td>\n",
              "      <td>29/09/2020</td>\n",
              "      <td>2021</td>\n",
              "      <td>4</td>\n",
              "      <td>Apr/2021</td>\n",
              "    </tr>\n",
              "  </tbody>\n",
              "</table>\n",
              "<p>490 rows × 20 columns</p>\n",
              "</div>"
            ],
            "text/plain": [
              "       Municípios Sg Uf  Nu Idade N  ...   ano mes   mes_ano\n",
              "25       BARRETOS    SP          71  ...  2021   2  Feb/2021\n",
              "945      BARRETOS    SP          75  ...  2021   3  Mar/2021\n",
              "23383    BARRETOS    SP          45  ...  2021   4  Apr/2021\n",
              "24994    BARRETOS    SP          21  ...  2021   3  Mar/2021\n",
              "25252    BARRETOS    SP          26  ...  2021   5  May/2021\n",
              "...           ...   ...         ...  ...   ...  ..       ...\n",
              "635862     COLINA    SP          59  ...  2021   4  Apr/2021\n",
              "636083   BARRETOS    SP          65  ...  2021   4  Apr/2021\n",
              "640458   BARRETOS    SP          82  ...  2021   4  Apr/2021\n",
              "641747   BARRETOS    SP          55  ...  2021   5  May/2021\n",
              "643134   BARRETOS    SP          37  ...  2021   4  Apr/2021\n",
              "\n",
              "[490 rows x 20 columns]"
            ]
          },
          "metadata": {
            "tags": []
          },
          "execution_count": 96
        }
      ]
    },
    {
      "cell_type": "code",
      "metadata": {
        "colab": {
          "base_uri": "https://localhost:8080/",
          "height": 638
        },
        "id": "sqhes31h-P1G",
        "outputId": "946798af-903d-402f-838d-3bb977185e8c"
      },
      "source": [
        "cb_dados = dados_estudo.loc[(dados_estudo.srag == \"COVID 19\")].groupby([\"Municípios\", \"mes\",\"Evolução\"]).agg({'Quantidade de Casos': ['sum']})\n",
        "cb_dados.columns = ['Qtd Casos Total']\n",
        "cb_dados = cb_dados.reset_index()\n",
        "cb_dados\n"
      ],
      "execution_count": 104,
      "outputs": [
        {
          "output_type": "execute_result",
          "data": {
            "text/html": [
              "<div>\n",
              "<style scoped>\n",
              "    .dataframe tbody tr th:only-of-type {\n",
              "        vertical-align: middle;\n",
              "    }\n",
              "\n",
              "    .dataframe tbody tr th {\n",
              "        vertical-align: top;\n",
              "    }\n",
              "\n",
              "    .dataframe thead th {\n",
              "        text-align: right;\n",
              "    }\n",
              "</style>\n",
              "<table border=\"1\" class=\"dataframe\">\n",
              "  <thead>\n",
              "    <tr style=\"text-align: right;\">\n",
              "      <th></th>\n",
              "      <th>Municípios</th>\n",
              "      <th>mes</th>\n",
              "      <th>Evolução</th>\n",
              "      <th>Qtd Casos Total</th>\n",
              "    </tr>\n",
              "  </thead>\n",
              "  <tbody>\n",
              "    <tr>\n",
              "      <th>0</th>\n",
              "      <td>BARRETOS</td>\n",
              "      <td>1</td>\n",
              "      <td>Cura</td>\n",
              "      <td>42</td>\n",
              "    </tr>\n",
              "    <tr>\n",
              "      <th>1</th>\n",
              "      <td>BARRETOS</td>\n",
              "      <td>1</td>\n",
              "      <td>Óbito</td>\n",
              "      <td>27</td>\n",
              "    </tr>\n",
              "    <tr>\n",
              "      <th>2</th>\n",
              "      <td>BARRETOS</td>\n",
              "      <td>2</td>\n",
              "      <td>Cura</td>\n",
              "      <td>43</td>\n",
              "    </tr>\n",
              "    <tr>\n",
              "      <th>3</th>\n",
              "      <td>BARRETOS</td>\n",
              "      <td>2</td>\n",
              "      <td>Óbito</td>\n",
              "      <td>25</td>\n",
              "    </tr>\n",
              "    <tr>\n",
              "      <th>4</th>\n",
              "      <td>BARRETOS</td>\n",
              "      <td>3</td>\n",
              "      <td>Cura</td>\n",
              "      <td>40</td>\n",
              "    </tr>\n",
              "    <tr>\n",
              "      <th>5</th>\n",
              "      <td>BARRETOS</td>\n",
              "      <td>3</td>\n",
              "      <td>Óbito</td>\n",
              "      <td>53</td>\n",
              "    </tr>\n",
              "    <tr>\n",
              "      <th>6</th>\n",
              "      <td>BARRETOS</td>\n",
              "      <td>4</td>\n",
              "      <td>Cura</td>\n",
              "      <td>62</td>\n",
              "    </tr>\n",
              "    <tr>\n",
              "      <th>7</th>\n",
              "      <td>BARRETOS</td>\n",
              "      <td>4</td>\n",
              "      <td>Óbito</td>\n",
              "      <td>65</td>\n",
              "    </tr>\n",
              "    <tr>\n",
              "      <th>8</th>\n",
              "      <td>BARRETOS</td>\n",
              "      <td>5</td>\n",
              "      <td>Cura</td>\n",
              "      <td>30</td>\n",
              "    </tr>\n",
              "    <tr>\n",
              "      <th>9</th>\n",
              "      <td>BARRETOS</td>\n",
              "      <td>5</td>\n",
              "      <td>Óbito</td>\n",
              "      <td>36</td>\n",
              "    </tr>\n",
              "    <tr>\n",
              "      <th>10</th>\n",
              "      <td>COLINA</td>\n",
              "      <td>1</td>\n",
              "      <td>Cura</td>\n",
              "      <td>7</td>\n",
              "    </tr>\n",
              "    <tr>\n",
              "      <th>11</th>\n",
              "      <td>COLINA</td>\n",
              "      <td>1</td>\n",
              "      <td>Óbito</td>\n",
              "      <td>3</td>\n",
              "    </tr>\n",
              "    <tr>\n",
              "      <th>12</th>\n",
              "      <td>COLINA</td>\n",
              "      <td>2</td>\n",
              "      <td>Cura</td>\n",
              "      <td>13</td>\n",
              "    </tr>\n",
              "    <tr>\n",
              "      <th>13</th>\n",
              "      <td>COLINA</td>\n",
              "      <td>2</td>\n",
              "      <td>Óbito</td>\n",
              "      <td>8</td>\n",
              "    </tr>\n",
              "    <tr>\n",
              "      <th>14</th>\n",
              "      <td>COLINA</td>\n",
              "      <td>3</td>\n",
              "      <td>Cura</td>\n",
              "      <td>13</td>\n",
              "    </tr>\n",
              "    <tr>\n",
              "      <th>15</th>\n",
              "      <td>COLINA</td>\n",
              "      <td>3</td>\n",
              "      <td>Óbito</td>\n",
              "      <td>5</td>\n",
              "    </tr>\n",
              "    <tr>\n",
              "      <th>16</th>\n",
              "      <td>COLINA</td>\n",
              "      <td>4</td>\n",
              "      <td>Cura</td>\n",
              "      <td>12</td>\n",
              "    </tr>\n",
              "    <tr>\n",
              "      <th>17</th>\n",
              "      <td>COLINA</td>\n",
              "      <td>4</td>\n",
              "      <td>Óbito</td>\n",
              "      <td>3</td>\n",
              "    </tr>\n",
              "    <tr>\n",
              "      <th>18</th>\n",
              "      <td>COLINA</td>\n",
              "      <td>5</td>\n",
              "      <td>Óbito</td>\n",
              "      <td>2</td>\n",
              "    </tr>\n",
              "  </tbody>\n",
              "</table>\n",
              "</div>"
            ],
            "text/plain": [
              "   Municípios  mes Evolução  Qtd Casos Total\n",
              "0    BARRETOS    1     Cura               42\n",
              "1    BARRETOS    1    Óbito               27\n",
              "2    BARRETOS    2     Cura               43\n",
              "3    BARRETOS    2    Óbito               25\n",
              "4    BARRETOS    3     Cura               40\n",
              "5    BARRETOS    3    Óbito               53\n",
              "6    BARRETOS    4     Cura               62\n",
              "7    BARRETOS    4    Óbito               65\n",
              "8    BARRETOS    5     Cura               30\n",
              "9    BARRETOS    5    Óbito               36\n",
              "10     COLINA    1     Cura                7\n",
              "11     COLINA    1    Óbito                3\n",
              "12     COLINA    2     Cura               13\n",
              "13     COLINA    2    Óbito                8\n",
              "14     COLINA    3     Cura               13\n",
              "15     COLINA    3    Óbito                5\n",
              "16     COLINA    4     Cura               12\n",
              "17     COLINA    4    Óbito                3\n",
              "18     COLINA    5    Óbito                2"
            ]
          },
          "metadata": {
            "tags": []
          },
          "execution_count": 104
        }
      ]
    },
    {
      "cell_type": "code",
      "metadata": {
        "id": "urYbvoWTal6y"
      },
      "source": [
        "#importando as bibliotecas\n",
        "\n",
        "import matplotlib.pyplot as plt \n",
        "import matplotlib.ticker as ticker"
      ],
      "execution_count": 100,
      "outputs": []
    },
    {
      "cell_type": "markdown",
      "metadata": {
        "id": "hidEYGfAeEZ8"
      },
      "source": [
        "#DESAFIOS\n"
      ]
    },
    {
      "cell_type": "markdown",
      "metadata": {
        "id": "oOyf1FR7eP2A"
      },
      "source": [
        "##Aula 1"
      ]
    },
    {
      "cell_type": "markdown",
      "metadata": {
        "id": "7u-EMw3gbJDC"
      },
      "source": [
        "###Desafio 01: Escolher um título mais descritivo, que passe a mensagem adequada ao gráfico de barras."
      ]
    },
    {
      "cell_type": "code",
      "metadata": {
        "colab": {
          "base_uri": "https://localhost:8080/",
          "height": 317
        },
        "id": "Fed8pqT2A0f1",
        "outputId": "7b5bd884-9a91-4357-c2e8-2969990d3a9c"
      },
      "source": [
        "cb_dados.loc[(cb_dados.Municípios == \"BARRETOS\") & (cb_dados.Evolução == \"Óbito\")].plot(x=\"mes\", y=\"Qtd Casos Total\", kind=\"bar\")\n",
        "plt.title(\"Óbitos em Barretos por mês no ano de 2021\")"
      ],
      "execution_count": 108,
      "outputs": [
        {
          "output_type": "execute_result",
          "data": {
            "text/plain": [
              "Text(0.5, 1.0, 'Óbitos em Barretos por mês no ano de 2021')"
            ]
          },
          "metadata": {
            "tags": []
          },
          "execution_count": 108
        },
        {
          "output_type": "display_data",
          "data": {
            "image/png": "[encoded data removed]",
            "text/plain": [
              "<Figure size 432x288 with 1 Axes>"
            ]
          },
          "metadata": {
            "tags": []
          }
        }
      ]
    },
    {
      "cell_type": "markdown",
      "metadata": {
        "id": "azYLC0fGeXal"
      },
      "source": [
        "### Desafio 02: Faça a mesma análise realizada em aula, porém para o mês mais recente."
      ]
    },
    {
      "cell_type": "markdown",
      "metadata": {
        "id": "ZCN3zZqZedMQ"
      },
      "source": [
        "Feito durante as aulas e refeito usando uma nova base de dados."
      ]
    },
    {
      "cell_type": "markdown",
      "metadata": {
        "id": "kdNksUnAeh2P"
      },
      "source": [
        "##Aula 2"
      ]
    },
    {
      "cell_type": "markdown",
      "metadata": {
        "id": "tF1a8iBZddMZ"
      },
      "source": [
        "###Desafio 01: Reposicionar a legenda do gráfico em uma posição mais adequada"
      ]
    },
    {
      "cell_type": "code",
      "metadata": {
        "colab": {
          "base_uri": "https://localhost:8080/",
          "height": 317
        },
        "id": "mH-n76XZk1Ao",
        "outputId": "0e073a52-61e0-4cdf-81e7-b88ad2d82dc3"
      },
      "source": [
        "\n",
        "\n",
        "cb_dados.loc[(cb_dados.Municípios == \"BARRETOS\") & (cb_dados.Evolução == \"Cura\")].plot(x=\"mes\", y=\"Qtd Casos Total\", kind=\"bar\")\n",
        "plt.title(\"Óbitos em Barretos por mês no ano de 2021\")\n",
        "#a posição 0 (best) seria a mesma escolhida por mim, que é a posição 2 (upper left)\n",
        "plt.legend(loc = 2)"
      ],
      "execution_count": 109,
      "outputs": [
        {
          "output_type": "execute_result",
          "data": {
            "text/plain": [
              "<matplotlib.legend.Legend at 0x7fa33a173b90>"
            ]
          },
          "metadata": {
            "tags": []
          },
          "execution_count": 109
        },
        {
          "output_type": "display_data",
          "data": {
            "image/png": "[encoded data removed]",
            "text/plain": [
              "<Figure size 432x288 with 1 Axes>"
            ]
          },
          "metadata": {
            "tags": []
          }
        }
      ]
    },
    {
      "cell_type": "markdown",
      "metadata": {
        "id": "yOC4H4YYfJxq"
      },
      "source": [
        "###Desafio 02: Plotar o gráfico de linha com apenas 5 estados de sua preferência"
      ]
    },
    {
      "cell_type": "markdown",
      "metadata": {
        "id": "AEkj-sDufOKY"
      },
      "source": [
        "Eu já havia filtrado previamente os dados de meu interesse e os armazenei em um tabela (cb_dados) que usei para plotar os gráficos anteriros."
      ]
    },
    {
      "cell_type": "markdown",
      "metadata": {
        "id": "i1FquzSOgVEN"
      },
      "source": [
        "##Aula 3"
      ]
    },
    {
      "cell_type": "markdown",
      "metadata": {
        "id": "ex_5PLy7f25O"
      },
      "source": [
        "###Desafio 01: Escolher uma palete de cores mais adequada do matplotlib."
      ]
    },
    {
      "cell_type": "code",
      "metadata": {
        "id": "VB9d-IHo1fLZ"
      },
      "source": [
        "#criar tabela com os dados de Colina e Barretos\n",
        "b = dados_estudo.loc[(dados_estudo.srag == \"COVID 19\") & (dados_estudo.Municípios == \"BARRETOS\") & (dados_estudo.Evolução == \"Cura\")].groupby([\"mes\"]).agg({'Quantidade de Casos': ['sum']})\n",
        "b.columns = ['Barretos']\n",
        "c = dados_estudo.loc[(dados_estudo.srag == \"COVID 19\") & (dados_estudo.Municípios == \"COLINA\") & (dados_estudo.Evolução == \"Cura\")].groupby([\"mes\"]).agg({'Quantidade de Casos': ['sum']})\n",
        "c.columns = ['Colina']\n",
        "m = b.index\n",
        "\n",
        "b = b.T\n",
        "c = c.T\n",
        "b = b.append(c)\n",
        "\n",
        "b = b.T\n",
        "\n"
      ],
      "execution_count": 112,
      "outputs": []
    },
    {
      "cell_type": "code",
      "metadata": {
        "id": "vBj4d0Wk_ggC"
      },
      "source": [
        "#criar tabela com os dados de Colina e Barretos\n",
        "b = dados_estudo.loc[(dados_estudo.srag == \"COVID 19\") & (dados_estudo.Municípios == \"BARRETOS\")].groupby([\"mes\", \"mes_ano\", \"Evolução\"]).agg({'Quantidade de Casos': ['sum']})\n",
        "b.columns = ['Barretos']\n",
        "c = dados_estudo.loc[(dados_estudo.srag == \"COVID 19\") & (dados_estudo.Municípios == \"COLINA\")].groupby([\"mes\", \"mes_ano\", \"Evolução\"]).agg({'Quantidade de Casos': ['sum']})\n",
        "c.columns = ['Colina']\n",
        "m = b.index\n",
        "\n",
        "b = b.T\n",
        "c = c.T\n",
        "b = b.append(c)\n",
        "\n",
        "b = b.T"
      ],
      "execution_count": 202,
      "outputs": []
    },
    {
      "cell_type": "code",
      "metadata": {
        "id": "_Pwq8S4zx5Pd"
      },
      "source": [
        "#drop mes (usado apenas para organizar os dados)\n",
        "b = b.reset_index(level = \"mes\", drop=True)\n",
        "\n"
      ],
      "execution_count": 158,
      "outputs": []
    },
    {
      "cell_type": "code",
      "metadata": {
        "colab": {
          "base_uri": "https://localhost:8080/",
          "height": 408
        },
        "id": "nBGG6b77y3Pg",
        "outputId": "6bbdc168-81d7-437f-9a1d-be6eb5f2419e"
      },
      "source": [
        "# Plotar o grafico\n",
        "b.plot( kind=\"bar\", color = (\"gray\", \"navy\"))\n",
        "plt.title(\"Evolutivo de casos curados de COVID 19 em Barretos e Colina\")\n",
        "plt.xlabel('Meses de 2021')\n",
        "plt.ylabel('N de casos Curados')\n",
        "plt.grid(False)\n",
        "plt.legend(loc = 2)"
      ],
      "execution_count": 160,
      "outputs": [
        {
          "output_type": "execute_result",
          "data": {
            "text/plain": [
              "<matplotlib.legend.Legend at 0x7fa343914ed0>"
            ]
          },
          "metadata": {
            "tags": []
          },
          "execution_count": 160
        },
        {
          "output_type": "display_data",
          "data": {
            "image/png": "[encoded data removed]",
            "text/plain": [
              "<Figure size 432x288 with 1 Axes>"
            ]
          },
          "metadata": {
            "tags": []
          }
        }
      ]
    },
    {
      "cell_type": "markdown",
      "metadata": {
        "id": "dzz-_pYbgE5q"
      },
      "source": [
        "###Desafio 03: Formatar o gráfico de custos por mês dos 5 estados, deixando ele agradável (Bonitão, segundo o Gui)\n",
        "\n"
      ]
    },
    {
      "cell_type": "code",
      "metadata": {
        "colab": {
          "base_uri": "https://localhost:8080/",
          "height": 408
        },
        "id": "iNnXjaaMrmgr",
        "outputId": "dcb33e74-0cfe-4c03-e733-018966a67099"
      },
      "source": [
        "import seaborn as sns\n",
        "\n",
        "#\n",
        "sns.set_palette(\"mako\")\n",
        "\n",
        "# Plotar o grafico\n",
        "b.plot( kind=\"bar\")\n",
        "plt.title(\"Evolutivo de casos curados de COVID 19 em Barretos e Colina\")\n",
        "plt.xlabel('Meses de 2021')\n",
        "plt.ylabel('N de casos Curados')\n",
        "plt.grid(False)\n",
        "plt.legend(loc = 2)"
      ],
      "execution_count": 161,
      "outputs": [
        {
          "output_type": "execute_result",
          "data": {
            "text/plain": [
              "<matplotlib.legend.Legend at 0x7fa33a8f22d0>"
            ]
          },
          "metadata": {
            "tags": []
          },
          "execution_count": 161
        },
        {
          "output_type": "display_data",
          "data": {
            "image/png": "[encoded data removed]",
            "text/plain": [
              "<Figure size 432x288 with 1 Axes>"
            ]
          },
          "metadata": {
            "tags": []
          }
        }
      ]
    },
    {
      "cell_type": "markdown",
      "metadata": {
        "id": "xtQ5xXwpgHWp"
      },
      "source": [
        "###Desafio 04: Adicione o seu estado aos 5 estados plotados anteriormente"
      ]
    },
    {
      "cell_type": "markdown",
      "metadata": {
        "id": "doKBW4g13trA"
      },
      "source": [
        "Exercício não necessário, já que estou usando outra base e já fiz isso."
      ]
    },
    {
      "cell_type": "markdown",
      "metadata": {
        "id": "XpS2pze-gLug"
      },
      "source": [
        "###Desafio 05: Buscar os casos de dengue no Brasil (época de maior número de casos e regiões mais atingidas) e se os picos de alguns estados em fevereiro e verão de modo geral, pode ser reflexos dos casos de dengue"
      ]
    },
    {
      "cell_type": "markdown",
      "metadata": {
        "id": "h-XNOC8j34tA"
      },
      "source": [
        "Bases diferentes, exercícios não necessário."
      ]
    },
    {
      "cell_type": "markdown",
      "metadata": {
        "id": "sDrqdal3gOyy"
      },
      "source": [
        "###Desafio 06: Plotar o gráfico dos custos apenas dos estados da região sudeste e verificar se os picos de 2013/Fev teve comportamento similar em todos os demais estados da região"
      ]
    },
    {
      "cell_type": "code",
      "metadata": {
        "colab": {
          "base_uri": "https://localhost:8080/",
          "height": 390
        },
        "id": "rDo5HM0fFq20",
        "outputId": "bdacefe3-448c-4cf6-ec54-b41a5c9b8334"
      },
      "source": [
        "b = b.T\n",
        "b"
      ],
      "execution_count": 163,
      "outputs": [
        {
          "output_type": "execute_result",
          "data": {
            "text/html": [
              "<div>\n",
              "<style scoped>\n",
              "    .dataframe tbody tr th:only-of-type {\n",
              "        vertical-align: middle;\n",
              "    }\n",
              "\n",
              "    .dataframe tbody tr th {\n",
              "        vertical-align: top;\n",
              "    }\n",
              "\n",
              "    .dataframe thead th {\n",
              "        text-align: right;\n",
              "    }\n",
              "</style>\n",
              "<table border=\"1\" class=\"dataframe\">\n",
              "  <thead>\n",
              "    <tr style=\"text-align: right;\">\n",
              "      <th></th>\n",
              "      <th></th>\n",
              "      <th>Barretos</th>\n",
              "      <th>Colina</th>\n",
              "    </tr>\n",
              "    <tr>\n",
              "      <th>mes_ano</th>\n",
              "      <th>Evolução</th>\n",
              "      <th></th>\n",
              "      <th></th>\n",
              "    </tr>\n",
              "  </thead>\n",
              "  <tbody>\n",
              "    <tr>\n",
              "      <th rowspan=\"2\" valign=\"top\">Jan/2021</th>\n",
              "      <th>Cura</th>\n",
              "      <td>42.00</td>\n",
              "      <td>7.00</td>\n",
              "    </tr>\n",
              "    <tr>\n",
              "      <th>Óbito</th>\n",
              "      <td>27.00</td>\n",
              "      <td>3.00</td>\n",
              "    </tr>\n",
              "    <tr>\n",
              "      <th rowspan=\"2\" valign=\"top\">Feb/2021</th>\n",
              "      <th>Cura</th>\n",
              "      <td>43.00</td>\n",
              "      <td>13.00</td>\n",
              "    </tr>\n",
              "    <tr>\n",
              "      <th>Óbito</th>\n",
              "      <td>25.00</td>\n",
              "      <td>8.00</td>\n",
              "    </tr>\n",
              "    <tr>\n",
              "      <th rowspan=\"2\" valign=\"top\">Mar/2021</th>\n",
              "      <th>Cura</th>\n",
              "      <td>40.00</td>\n",
              "      <td>13.00</td>\n",
              "    </tr>\n",
              "    <tr>\n",
              "      <th>Óbito</th>\n",
              "      <td>53.00</td>\n",
              "      <td>5.00</td>\n",
              "    </tr>\n",
              "    <tr>\n",
              "      <th rowspan=\"2\" valign=\"top\">Apr/2021</th>\n",
              "      <th>Cura</th>\n",
              "      <td>62.00</td>\n",
              "      <td>12.00</td>\n",
              "    </tr>\n",
              "    <tr>\n",
              "      <th>Óbito</th>\n",
              "      <td>65.00</td>\n",
              "      <td>3.00</td>\n",
              "    </tr>\n",
              "    <tr>\n",
              "      <th rowspan=\"2\" valign=\"top\">May/2021</th>\n",
              "      <th>Cura</th>\n",
              "      <td>30.00</td>\n",
              "      <td>nan</td>\n",
              "    </tr>\n",
              "    <tr>\n",
              "      <th>Óbito</th>\n",
              "      <td>36.00</td>\n",
              "      <td>2.00</td>\n",
              "    </tr>\n",
              "  </tbody>\n",
              "</table>\n",
              "</div>"
            ],
            "text/plain": [
              "                   Barretos  Colina\n",
              "mes_ano  Evolução                  \n",
              "Jan/2021 Cura         42.00    7.00\n",
              "         Óbito        27.00    3.00\n",
              "Feb/2021 Cura         43.00   13.00\n",
              "         Óbito        25.00    8.00\n",
              "Mar/2021 Cura         40.00   13.00\n",
              "         Óbito        53.00    5.00\n",
              "Apr/2021 Cura         62.00   12.00\n",
              "         Óbito        65.00    3.00\n",
              "May/2021 Cura         30.00     nan\n",
              "         Óbito        36.00    2.00"
            ]
          },
          "metadata": {
            "tags": []
          },
          "execution_count": 163
        }
      ]
    },
    {
      "cell_type": "code",
      "metadata": {
        "colab": {
          "base_uri": "https://localhost:8080/",
          "height": 382
        },
        "id": "X0LvM3d2JZeK",
        "outputId": "c8c8289d-d531-43ad-df01-4f758acf557a"
      },
      "source": [
        "sns.displot(data=dados_estudo, x=\"Data de Notificação\", row =\"Quantidade de Casos\", col=\"Municípios\", hue = \"Evolução\", kind = 'hist', multiple=\"dodge\", shrink=.8, bins = 5, kde = True, palette = \"dark\")\n"
      ],
      "execution_count": 227,
      "outputs": [
        {
          "output_type": "execute_result",
          "data": {
            "text/plain": [
              "<seaborn.axisgrid.FacetGrid at 0x7fa333ed3890>"
            ]
          },
          "metadata": {
            "tags": []
          },
          "execution_count": 227
        },
        {
          "output_type": "display_data",
          "data": {
            "image/png": "[encoded data removed]",
            "text/plain": [
              "<Figure size 789.475x360 with 2 Axes>"
            ]
          },
          "metadata": {
            "tags": []
          }
        }
      ]
    },
    {
      "cell_type": "code",
      "metadata": {
        "colab": {
          "base_uri": "https://localhost:8080/",
          "height": 302
        },
        "id": "CQy2l6T8HFB7",
        "outputId": "5e2800ec-4c17-4a09-94d7-49e304839000"
      },
      "source": [
        "sns.histplot(data=dados_estudo, x=\"Data de Notificação\", bins=5, kde=True, hue =\"Municípios\", palette = \"dark\", multiple=\"dodge\", shrink=.8)"
      ],
      "execution_count": 222,
      "outputs": [
        {
          "output_type": "execute_result",
          "data": {
            "text/plain": [
              "<matplotlib.axes._subplots.AxesSubplot at 0x7fa333ecc150>"
            ]
          },
          "metadata": {
            "tags": []
          },
          "execution_count": 222
        },
        {
          "output_type": "display_data",
          "data": {
            "image/png": "[encoded data removed]",
            "text/plain": [
              "<Figure size 432x288 with 1 Axes>"
            ]
          },
          "metadata": {
            "tags": []
          }
        }
      ]
    },
    {
      "cell_type": "code",
      "metadata": {
        "colab": {
          "base_uri": "https://localhost:8080/",
          "height": 359
        },
        "id": "FlXjtip1NQ6F",
        "outputId": "e76781c4-5f66-4d90-ff7f-28c8b9923a2c"
      },
      "source": [
        "#reset de index\n",
        "#b = b.reset_index()\n",
        "b"
      ],
      "execution_count": 199,
      "outputs": [
        {
          "output_type": "execute_result",
          "data": {
            "text/html": [
              "<div>\n",
              "<style scoped>\n",
              "    .dataframe tbody tr th:only-of-type {\n",
              "        vertical-align: middle;\n",
              "    }\n",
              "\n",
              "    .dataframe tbody tr th {\n",
              "        vertical-align: top;\n",
              "    }\n",
              "\n",
              "    .dataframe thead th {\n",
              "        text-align: right;\n",
              "    }\n",
              "</style>\n",
              "<table border=\"1\" class=\"dataframe\">\n",
              "  <thead>\n",
              "    <tr style=\"text-align: right;\">\n",
              "      <th></th>\n",
              "      <th>Evolução</th>\n",
              "      <th>mes_ano</th>\n",
              "      <th>Barretos</th>\n",
              "      <th>Colina</th>\n",
              "    </tr>\n",
              "  </thead>\n",
              "  <tbody>\n",
              "    <tr>\n",
              "      <th>0</th>\n",
              "      <td>Cura</td>\n",
              "      <td>Jan/2021</td>\n",
              "      <td>42.00</td>\n",
              "      <td>7.00</td>\n",
              "    </tr>\n",
              "    <tr>\n",
              "      <th>1</th>\n",
              "      <td>Óbito</td>\n",
              "      <td>Jan/2021</td>\n",
              "      <td>27.00</td>\n",
              "      <td>3.00</td>\n",
              "    </tr>\n",
              "    <tr>\n",
              "      <th>2</th>\n",
              "      <td>Cura</td>\n",
              "      <td>Feb/2021</td>\n",
              "      <td>43.00</td>\n",
              "      <td>13.00</td>\n",
              "    </tr>\n",
              "    <tr>\n",
              "      <th>3</th>\n",
              "      <td>Óbito</td>\n",
              "      <td>Feb/2021</td>\n",
              "      <td>25.00</td>\n",
              "      <td>8.00</td>\n",
              "    </tr>\n",
              "    <tr>\n",
              "      <th>4</th>\n",
              "      <td>Cura</td>\n",
              "      <td>Mar/2021</td>\n",
              "      <td>40.00</td>\n",
              "      <td>13.00</td>\n",
              "    </tr>\n",
              "    <tr>\n",
              "      <th>5</th>\n",
              "      <td>Óbito</td>\n",
              "      <td>Mar/2021</td>\n",
              "      <td>53.00</td>\n",
              "      <td>5.00</td>\n",
              "    </tr>\n",
              "    <tr>\n",
              "      <th>6</th>\n",
              "      <td>Cura</td>\n",
              "      <td>Apr/2021</td>\n",
              "      <td>62.00</td>\n",
              "      <td>12.00</td>\n",
              "    </tr>\n",
              "    <tr>\n",
              "      <th>7</th>\n",
              "      <td>Óbito</td>\n",
              "      <td>Apr/2021</td>\n",
              "      <td>65.00</td>\n",
              "      <td>3.00</td>\n",
              "    </tr>\n",
              "    <tr>\n",
              "      <th>8</th>\n",
              "      <td>Cura</td>\n",
              "      <td>May/2021</td>\n",
              "      <td>30.00</td>\n",
              "      <td>nan</td>\n",
              "    </tr>\n",
              "    <tr>\n",
              "      <th>9</th>\n",
              "      <td>Óbito</td>\n",
              "      <td>May/2021</td>\n",
              "      <td>36.00</td>\n",
              "      <td>2.00</td>\n",
              "    </tr>\n",
              "  </tbody>\n",
              "</table>\n",
              "</div>"
            ],
            "text/plain": [
              "  Evolução   mes_ano  Barretos  Colina\n",
              "0     Cura  Jan/2021     42.00    7.00\n",
              "1    Óbito  Jan/2021     27.00    3.00\n",
              "2     Cura  Feb/2021     43.00   13.00\n",
              "3    Óbito  Feb/2021     25.00    8.00\n",
              "4     Cura  Mar/2021     40.00   13.00\n",
              "5    Óbito  Mar/2021     53.00    5.00\n",
              "6     Cura  Apr/2021     62.00   12.00\n",
              "7    Óbito  Apr/2021     65.00    3.00\n",
              "8     Cura  May/2021     30.00     nan\n",
              "9    Óbito  May/2021     36.00    2.00"
            ]
          },
          "metadata": {
            "tags": []
          },
          "execution_count": 199
        }
      ]
    },
    {
      "cell_type": "markdown",
      "metadata": {
        "id": "AXYWFPnogR74"
      },
      "source": [
        "###Desafio 07: Adicionar seu estado escolhido novamente, deixe o gráfico informativo e tire conclusões sobre seus estados comparando com os demais. Tire suas conclusões e compartilhe com a gente."
      ]
    },
    {
      "cell_type": "code",
      "metadata": {
        "colab": {
          "base_uri": "https://localhost:8080/",
          "height": 643
        },
        "id": "mG2b0pFjXaXV",
        "outputId": "517b8e78-b1de-4f42-dc1b-972e03b3e82f"
      },
      "source": [
        "dados_estudo"
      ],
      "execution_count": 228,
      "outputs": [
        {
          "output_type": "execute_result",
          "data": {
            "text/html": [
              "<div>\n",
              "<style scoped>\n",
              "    .dataframe tbody tr th:only-of-type {\n",
              "        vertical-align: middle;\n",
              "    }\n",
              "\n",
              "    .dataframe tbody tr th {\n",
              "        vertical-align: top;\n",
              "    }\n",
              "\n",
              "    .dataframe thead th {\n",
              "        text-align: right;\n",
              "    }\n",
              "</style>\n",
              "<table border=\"1\" class=\"dataframe\">\n",
              "  <thead>\n",
              "    <tr style=\"text-align: right;\">\n",
              "      <th></th>\n",
              "      <th>Municípios</th>\n",
              "      <th>Sg Uf</th>\n",
              "      <th>Nu Idade N</th>\n",
              "      <th>Grupo de Idades</th>\n",
              "      <th>Cs Sexo</th>\n",
              "      <th>Cs Raca</th>\n",
              "      <th>srag</th>\n",
              "      <th>Evolução</th>\n",
              "      <th>Quantidade Homens</th>\n",
              "      <th>Quantidade Mulheres</th>\n",
              "      <th>Quantidade de Casos</th>\n",
              "      <th>Cs Raca_ID</th>\n",
              "      <th>Cs Sexo_ID</th>\n",
              "      <th>Data de Notificação</th>\n",
              "      <th>Faixa etária</th>\n",
              "      <th>EVOLUCAO_NOT_NULL</th>\n",
              "      <th>Última Data de Notificação</th>\n",
              "      <th>ano</th>\n",
              "      <th>mes</th>\n",
              "      <th>mes_ano</th>\n",
              "    </tr>\n",
              "  </thead>\n",
              "  <tbody>\n",
              "    <tr>\n",
              "      <th>25</th>\n",
              "      <td>BARRETOS</td>\n",
              "      <td>SP</td>\n",
              "      <td>71</td>\n",
              "      <td>70</td>\n",
              "      <td>Feminino</td>\n",
              "      <td>Parda</td>\n",
              "      <td>COVID 19</td>\n",
              "      <td>Cura</td>\n",
              "      <td>nan</td>\n",
              "      <td>71.00</td>\n",
              "      <td>1</td>\n",
              "      <td>4.00</td>\n",
              "      <td>Feminino</td>\n",
              "      <td>2021-02-06</td>\n",
              "      <td>70</td>\n",
              "      <td>1</td>\n",
              "      <td>29/09/2020</td>\n",
              "      <td>2021</td>\n",
              "      <td>2</td>\n",
              "      <td>Feb/2021</td>\n",
              "    </tr>\n",
              "    <tr>\n",
              "      <th>945</th>\n",
              "      <td>BARRETOS</td>\n",
              "      <td>SP</td>\n",
              "      <td>75</td>\n",
              "      <td>75</td>\n",
              "      <td>Feminino</td>\n",
              "      <td>Parda</td>\n",
              "      <td>COVID 19</td>\n",
              "      <td>Cura</td>\n",
              "      <td>nan</td>\n",
              "      <td>75.00</td>\n",
              "      <td>1</td>\n",
              "      <td>4.00</td>\n",
              "      <td>Feminino</td>\n",
              "      <td>2021-03-30</td>\n",
              "      <td>75</td>\n",
              "      <td>1</td>\n",
              "      <td>29/09/2020</td>\n",
              "      <td>2021</td>\n",
              "      <td>3</td>\n",
              "      <td>Mar/2021</td>\n",
              "    </tr>\n",
              "    <tr>\n",
              "      <th>23383</th>\n",
              "      <td>BARRETOS</td>\n",
              "      <td>SP</td>\n",
              "      <td>45</td>\n",
              "      <td>45</td>\n",
              "      <td>Feminino</td>\n",
              "      <td>Não informado</td>\n",
              "      <td>COVID 19</td>\n",
              "      <td>Cura</td>\n",
              "      <td>nan</td>\n",
              "      <td>45.00</td>\n",
              "      <td>1</td>\n",
              "      <td>9.00</td>\n",
              "      <td>Feminino</td>\n",
              "      <td>2021-04-06</td>\n",
              "      <td>45</td>\n",
              "      <td>1</td>\n",
              "      <td>29/09/2020</td>\n",
              "      <td>2021</td>\n",
              "      <td>4</td>\n",
              "      <td>Apr/2021</td>\n",
              "    </tr>\n",
              "    <tr>\n",
              "      <th>24994</th>\n",
              "      <td>BARRETOS</td>\n",
              "      <td>SP</td>\n",
              "      <td>21</td>\n",
              "      <td>20</td>\n",
              "      <td>Feminino</td>\n",
              "      <td>Branca</td>\n",
              "      <td>COVID 19</td>\n",
              "      <td>Cura</td>\n",
              "      <td>nan</td>\n",
              "      <td>21.00</td>\n",
              "      <td>1</td>\n",
              "      <td>1.00</td>\n",
              "      <td>Feminino</td>\n",
              "      <td>2021-03-31</td>\n",
              "      <td>20</td>\n",
              "      <td>1</td>\n",
              "      <td>29/09/2020</td>\n",
              "      <td>2021</td>\n",
              "      <td>3</td>\n",
              "      <td>Mar/2021</td>\n",
              "    </tr>\n",
              "    <tr>\n",
              "      <th>25252</th>\n",
              "      <td>BARRETOS</td>\n",
              "      <td>SP</td>\n",
              "      <td>26</td>\n",
              "      <td>25</td>\n",
              "      <td>Feminino</td>\n",
              "      <td>Branca</td>\n",
              "      <td>COVID 19</td>\n",
              "      <td>Cura</td>\n",
              "      <td>nan</td>\n",
              "      <td>26.00</td>\n",
              "      <td>1</td>\n",
              "      <td>1.00</td>\n",
              "      <td>Feminino</td>\n",
              "      <td>2021-05-02</td>\n",
              "      <td>25</td>\n",
              "      <td>1</td>\n",
              "      <td>29/09/2020</td>\n",
              "      <td>2021</td>\n",
              "      <td>5</td>\n",
              "      <td>May/2021</td>\n",
              "    </tr>\n",
              "    <tr>\n",
              "      <th>...</th>\n",
              "      <td>...</td>\n",
              "      <td>...</td>\n",
              "      <td>...</td>\n",
              "      <td>...</td>\n",
              "      <td>...</td>\n",
              "      <td>...</td>\n",
              "      <td>...</td>\n",
              "      <td>...</td>\n",
              "      <td>...</td>\n",
              "      <td>...</td>\n",
              "      <td>...</td>\n",
              "      <td>...</td>\n",
              "      <td>...</td>\n",
              "      <td>...</td>\n",
              "      <td>...</td>\n",
              "      <td>...</td>\n",
              "      <td>...</td>\n",
              "      <td>...</td>\n",
              "      <td>...</td>\n",
              "      <td>...</td>\n",
              "    </tr>\n",
              "    <tr>\n",
              "      <th>635862</th>\n",
              "      <td>COLINA</td>\n",
              "      <td>SP</td>\n",
              "      <td>59</td>\n",
              "      <td>55</td>\n",
              "      <td>Masculino</td>\n",
              "      <td>Não informado</td>\n",
              "      <td>COVID 19</td>\n",
              "      <td>Óbito</td>\n",
              "      <td>59.00</td>\n",
              "      <td>nan</td>\n",
              "      <td>1</td>\n",
              "      <td>9.00</td>\n",
              "      <td>Masculino</td>\n",
              "      <td>2021-04-07</td>\n",
              "      <td>55</td>\n",
              "      <td>2</td>\n",
              "      <td>29/09/2020</td>\n",
              "      <td>2021</td>\n",
              "      <td>4</td>\n",
              "      <td>Apr/2021</td>\n",
              "    </tr>\n",
              "    <tr>\n",
              "      <th>636083</th>\n",
              "      <td>BARRETOS</td>\n",
              "      <td>SP</td>\n",
              "      <td>65</td>\n",
              "      <td>65</td>\n",
              "      <td>Masculino</td>\n",
              "      <td>Não informado</td>\n",
              "      <td>COVID 19</td>\n",
              "      <td>Óbito</td>\n",
              "      <td>65.00</td>\n",
              "      <td>nan</td>\n",
              "      <td>1</td>\n",
              "      <td>9.00</td>\n",
              "      <td>Masculino</td>\n",
              "      <td>2021-04-12</td>\n",
              "      <td>65</td>\n",
              "      <td>2</td>\n",
              "      <td>29/09/2020</td>\n",
              "      <td>2021</td>\n",
              "      <td>4</td>\n",
              "      <td>Apr/2021</td>\n",
              "    </tr>\n",
              "    <tr>\n",
              "      <th>640458</th>\n",
              "      <td>BARRETOS</td>\n",
              "      <td>SP</td>\n",
              "      <td>82</td>\n",
              "      <td>80</td>\n",
              "      <td>Feminino</td>\n",
              "      <td>Branca</td>\n",
              "      <td>COVID 19</td>\n",
              "      <td>Cura</td>\n",
              "      <td>nan</td>\n",
              "      <td>82.00</td>\n",
              "      <td>1</td>\n",
              "      <td>1.00</td>\n",
              "      <td>Feminino</td>\n",
              "      <td>2021-04-11</td>\n",
              "      <td>80</td>\n",
              "      <td>1</td>\n",
              "      <td>29/09/2020</td>\n",
              "      <td>2021</td>\n",
              "      <td>4</td>\n",
              "      <td>Apr/2021</td>\n",
              "    </tr>\n",
              "    <tr>\n",
              "      <th>641747</th>\n",
              "      <td>BARRETOS</td>\n",
              "      <td>SP</td>\n",
              "      <td>55</td>\n",
              "      <td>55</td>\n",
              "      <td>Feminino</td>\n",
              "      <td>Preta</td>\n",
              "      <td>COVID 19</td>\n",
              "      <td>Cura</td>\n",
              "      <td>nan</td>\n",
              "      <td>55.00</td>\n",
              "      <td>1</td>\n",
              "      <td>2.00</td>\n",
              "      <td>Feminino</td>\n",
              "      <td>2021-05-19</td>\n",
              "      <td>55</td>\n",
              "      <td>1</td>\n",
              "      <td>29/09/2020</td>\n",
              "      <td>2021</td>\n",
              "      <td>5</td>\n",
              "      <td>May/2021</td>\n",
              "    </tr>\n",
              "    <tr>\n",
              "      <th>643134</th>\n",
              "      <td>BARRETOS</td>\n",
              "      <td>SP</td>\n",
              "      <td>37</td>\n",
              "      <td>35</td>\n",
              "      <td>Feminino</td>\n",
              "      <td>Parda</td>\n",
              "      <td>COVID 19</td>\n",
              "      <td>Cura</td>\n",
              "      <td>nan</td>\n",
              "      <td>37.00</td>\n",
              "      <td>1</td>\n",
              "      <td>4.00</td>\n",
              "      <td>Feminino</td>\n",
              "      <td>2021-04-26</td>\n",
              "      <td>35</td>\n",
              "      <td>1</td>\n",
              "      <td>29/09/2020</td>\n",
              "      <td>2021</td>\n",
              "      <td>4</td>\n",
              "      <td>Apr/2021</td>\n",
              "    </tr>\n",
              "  </tbody>\n",
              "</table>\n",
              "<p>490 rows × 20 columns</p>\n",
              "</div>"
            ],
            "text/plain": [
              "       Municípios Sg Uf  Nu Idade N  ...   ano mes   mes_ano\n",
              "25       BARRETOS    SP          71  ...  2021   2  Feb/2021\n",
              "945      BARRETOS    SP          75  ...  2021   3  Mar/2021\n",
              "23383    BARRETOS    SP          45  ...  2021   4  Apr/2021\n",
              "24994    BARRETOS    SP          21  ...  2021   3  Mar/2021\n",
              "25252    BARRETOS    SP          26  ...  2021   5  May/2021\n",
              "...           ...   ...         ...  ...   ...  ..       ...\n",
              "635862     COLINA    SP          59  ...  2021   4  Apr/2021\n",
              "636083   BARRETOS    SP          65  ...  2021   4  Apr/2021\n",
              "640458   BARRETOS    SP          82  ...  2021   4  Apr/2021\n",
              "641747   BARRETOS    SP          55  ...  2021   5  May/2021\n",
              "643134   BARRETOS    SP          37  ...  2021   4  Apr/2021\n",
              "\n",
              "[490 rows x 20 columns]"
            ]
          },
          "metadata": {
            "tags": []
          },
          "execution_count": 228
        }
      ]
    },
    {
      "cell_type": "code",
      "metadata": {
        "colab": {
          "base_uri": "https://localhost:8080/",
          "height": 206
        },
        "id": "VHyLZXNaXVo-",
        "outputId": "9ef6a509-4f79-47ee-f460-74884a4b6a48"
      },
      "source": [
        "sns.displot(data=dados_estudo, x=\"Data de Notificação\", row =\"Quantidade de Casos\", col =\"Grupo de Idades\", hue = \"Evolução\", kind = 'hist', multiple=\"dodge\", shrink=.8, bins = 5, kde = True, palette = \"dark\")\n"
      ],
      "execution_count": 233,
      "outputs": [
        {
          "output_type": "stream",
          "text": [
            "/usr/local/lib/python3.7/dist-packages/seaborn/distributions.py:306: UserWarning: Dataset has 0 variance; skipping density estimate.\n",
            "  warnings.warn(msg, UserWarning)\n",
            "/usr/local/lib/python3.7/dist-packages/seaborn/distributions.py:306: UserWarning: Dataset has 0 variance; skipping density estimate.\n",
            "  warnings.warn(msg, UserWarning)\n",
            "/usr/local/lib/python3.7/dist-packages/seaborn/distributions.py:306: UserWarning: Dataset has 0 variance; skipping density estimate.\n",
            "  warnings.warn(msg, UserWarning)\n"
          ],
          "name": "stderr"
        },
        {
          "output_type": "execute_result",
          "data": {
            "text/plain": [
              "<seaborn.axisgrid.FacetGrid at 0x7fa3326d0790>"
            ]
          },
          "metadata": {
            "tags": []
          },
          "execution_count": 233
        },
        {
          "output_type": "display_data",
          "data": {
            "image/png": "[encoded data removed]",
            "text/plain": [
              "<Figure size 6549.48x360 with 18 Axes>"
            ]
          },
          "metadata": {
            "tags": []
          }
        }
      ]
    }
  ]
}